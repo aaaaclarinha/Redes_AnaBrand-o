{
 "cells": [
  {
   "cell_type": "markdown",
   "metadata": {},
   "source": [
    "Busca aleatória\n",
    "===============\n",
    "\n"
   ]
  },
  {
   "cell_type": "markdown",
   "metadata": {},
   "source": [
    "## Introdução\n",
    "\n"
   ]
  },
  {
   "cell_type": "markdown",
   "metadata": {},
   "source": [
    "Uma forma simples de se encontrar uma solução para um `problema de otimização` é realizando uma `busca aleatória`. A busca aleatória, como o próprio nome sugere, é um algoritmo onde um certo `espaço de busca` é definido de onde sorteamos `candidatos` de soluções para o problema.\n",
    "\n",
    "Diferentemente de outros algoritmos de otimização, a busca aleatória não requer que a `função objetivo` seja diferenciável nem contínua.\n",
    "\n",
    "Um algoritmo de busca aleatória segue os seguintes passos:\n",
    "\n",
    "1.  Um espaço de busca é definido\n",
    "\n",
    "2.  Um candidato $x$ dentro do espaço de busca é sorteado aleatoriamente\n",
    "\n",
    "3.  Calculamos o resultado da função objetivo para o candidato $x$\n",
    "\n",
    "4.  Se o critério de parada for atingido, encerrar o algoritmo e retornar ao usuário o candidato que teve melhor resultado durante a busca. Do contrário, retorne ao passo 2\n",
    "\n"
   ]
  },
  {
   "cell_type": "markdown",
   "metadata": {},
   "source": [
    "## Reflexões\n",
    "\n"
   ]
  },
  {
   "cell_type": "markdown",
   "metadata": {},
   "source": [
    "Você diria que o algoritmo de busca aleatória é determinístico ou probabilístico?\n",
    "\n",
    "Em quais problemas de otimização você acredita que este algoritmo seja uma boa escolha?\n",
    "\n",
    "Em quais problemas de otimização você acredita que este algoritmo seja uma má escolha?\n",
    "\n"
   ]
  },
  {
   "cell_type": "markdown",
   "metadata": {},
   "source": [
    "## Objetivo\n",
    "\n"
   ]
  },
  {
   "cell_type": "markdown",
   "metadata": {},
   "source": [
    "Encontrar uma solução para o problema das caixas binárias usando o algoritmo de busca aleatória. Considere 4 caixas.\n",
    "\n"
   ]
  },
  {
   "cell_type": "markdown",
   "metadata": {},
   "source": [
    "## Descrição do problema\n",
    "\n"
   ]
  },
  {
   "cell_type": "markdown",
   "metadata": {},
   "source": [
    "O problema das caixas binárias é simples: nós temos um certo número de caixas e cada uma pode conter um valor do conjunto $\\{0, 1\\}$. O objetivo é encontrar uma combinação de caixas onde a soma dos valores contidos dentro delas é máximo.\n",
    "\n",
    "Como todo problema computacional, um dos desafios é &ldquo;traduzir&rdquo; o problema dado em estruturas computacionais.\n",
    "\n"
   ]
  },
  {
   "cell_type": "markdown",
   "metadata": {},
   "source": [
    "## Importações\n",
    "\n"
   ]
  },
  {
   "cell_type": "code",
   "execution_count": 1,
   "metadata": {},
   "outputs": [],
   "source": [
    "import random"
   ]
  },
  {
   "cell_type": "markdown",
   "metadata": {},
   "source": [
    "## Códigos e discussão\n",
    "\n"
   ]
  },
  {
   "cell_type": "code",
   "execution_count": 2,
   "metadata": {
    "tags": []
   },
   "outputs": [],
   "source": [
    "# O problema será tratado como uma lista, cada elemento da lista representará um gene, cada gene poderá assumir o valor de 0 ou 1.\n",
    "\n",
    "def gene_cb():\n",
    "    \"\"\" gera um gene valido para cada caixa binária\n",
    "    \n",
    "        return:\n",
    "            valor de 0 ou 1         \n",
    "    \"\"\"\n",
    "    \n",
    "    lista = [0,1] # genes possiveis para a caixa binária \n",
    "    gene = random.choice(lista)\n",
    "    return gene \n",
    "\n",
    "def ind_cb(n):\n",
    "    \"\"\" seleciona genes para formar o indivíuo \n",
    "    \n",
    "        arg:\n",
    "            n: número de genes do indivíduo \n",
    "            \n",
    "        return:\n",
    "            uma lista com n genes\n",
    "    \"\"\"\n",
    "    \n",
    "    ind = []\n",
    "    for i in range(n):\n",
    "        gene = gene_cb()\n",
    "        ind.append(gene)\n",
    "    return ind\n",
    "\n",
    "def fun_obj_(individuo):\n",
    "    \"\"\" soma os valores dos genes \n",
    "    \n",
    "        arg:\n",
    "            individuo: lista contendo as caixas binárias \n",
    "            \n",
    "        return\n",
    "            valor da soma \n",
    "    \"\"\"\n",
    "    return sum(individuo)"
   ]
  },
  {
   "cell_type": "code",
   "execution_count": 3,
   "metadata": {},
   "outputs": [],
   "source": [
    "# Condições do problema (constantes)\n",
    "\n",
    "N_cand = 16 # números de sorteios \n",
    "N_genes = 4 # números de caixas "
   ]
  },
  {
   "cell_type": "code",
   "execution_count": 4,
   "metadata": {},
   "outputs": [
    {
     "name": "stdout",
     "output_type": "stream",
     "text": [
      "[1, 1, 1, 1] 4\n",
      "[1, 1, 1, 1] 4\n",
      "[1, 1, 0, 0] 2\n",
      "[0, 1, 1, 0] 2\n",
      "[0, 1, 0, 0] 1\n",
      "[1, 0, 1, 0] 2\n",
      "[0, 1, 1, 1] 3\n",
      "[1, 0, 1, 1] 3\n",
      "[1, 1, 0, 0] 2\n",
      "[1, 1, 1, 1] 4\n",
      "[1, 0, 0, 0] 1\n",
      "[1, 1, 1, 0] 3\n",
      "[0, 0, 1, 1] 2\n",
      "[0, 1, 1, 0] 2\n",
      "[0, 1, 1, 0] 2\n",
      "[0, 0, 1, 1] 2\n"
     ]
    }
   ],
   "source": [
    "for n in range(N_cand):\n",
    "    \n",
    "    cand = ind_cb(N_genes)\n",
    "    f_obj = fun_obj_(cand)\n",
    "    print(cand, f_obj)"
   ]
  },
  {
   "cell_type": "markdown",
   "metadata": {},
   "source": [
    "## Resultados e Discussões\n",
    "\n",
    "As poucas células de código apresentam o fundamemento de um algoritmo onde cada função representa um conceito biológico adaptado ao problema, desta forma, o algoritmo explora esta linha para identificar o individuo mais adequado ao objetivo. Desta forma, a função objetivo é usada para criar um parâmetro para caracterizar cada individuo quanto aos benefícios da continuidade dos genes que o compõe. \n",
    "\n",
    "Foi possível observar que o algoritmo de busca aleatória é probabilistico, a cada vez que o código acima é rodado apresenta um resultado diferente, e nem sempre o resultado ótimo esperado. Por isso, busca-se melhorar algoritmos como este aplicando um conceito evolutivo, onde os melhores candidatos desenvolvidos são usados para gerar novos individuo, formando um \"laço parental\" entre eles, desta forma, espera-se desenvolver melhores individuos com base no paralelo da evolução genética.  \n",
    "\n",
    "Ademais, uma forma de implementar o presente algoritmo para melhorar sua resposta ao problema apresetando, fazendo com que fosse retornado o melhor resultado, ao invés de uma lista de resultados. Sendo assim, esse algoritmo seria viável não apenas em problemas com poucos candidatos a resultados, e a análise seria mais rápida e eficiente.\n"
   ]
  },
  {
   "cell_type": "code",
   "execution_count": 5,
   "metadata": {},
   "outputs": [
    {
     "name": "stdout",
     "output_type": "stream",
     "text": [
      "[0, 0, 0, 1] 1\n",
      "[0, 1, 0, 0] 1\n",
      "[1, 0, 1, 1] 3\n",
      "[0, 1, 1, 1] 3\n",
      "[1, 1, 1, 1] 4\n",
      "[0, 1, 1, 1] 3\n",
      "[1, 1, 1, 1] 4\n",
      "[1, 1, 1, 0] 3\n",
      "[0, 1, 1, 1] 3\n",
      "[1, 0, 0, 1] 2\n",
      "[1, 1, 0, 1] 3\n",
      "[1, 0, 0, 0] 1\n",
      "[1, 0, 1, 1] 3\n",
      "[1, 0, 0, 0] 1\n",
      "[0, 1, 0, 0] 1\n",
      "[1, 0, 1, 0] 2\n",
      "\n",
      "O melhor resultado sorteado foi 4, na 5 geração\n"
     ]
    }
   ],
   "source": [
    "resultado = []\n",
    "geraçao = []\n",
    "contador = 1\n",
    "\n",
    "for n in range(N_cand):\n",
    "    \n",
    "    cand = ind_cb(N_genes)\n",
    "    f_obj = fun_obj_(cand)\n",
    "    print(cand, f_obj)\n",
    "    \n",
    "    resultado.append(f_obj)\n",
    "    geraçao.append(contador)\n",
    "    contador += 1\n",
    "\n",
    "ger = geraçao[resultado.index(max(resultado))]\n",
    "    \n",
    "print()\n",
    "print(f\"O melhor resultado sorteado foi {max(resultado)}, na {ger} geração\")"
   ]
  },
  {
   "cell_type": "markdown",
   "metadata": {},
   "source": [
    "## Playground\n",
    "\n"
   ]
  }
 ],
 "metadata": {
  "kernelspec": {
   "display_name": "ilumpy",
   "language": "python",
   "name": "ilumpy"
  },
  "language_info": {
   "codemirror_mode": {
    "name": "ipython",
    "version": 3
   },
   "file_extension": ".py",
   "mimetype": "text/x-python",
   "name": "python",
   "nbconvert_exporter": "python",
   "pygments_lexer": "ipython3",
   "version": "3.9.7"
  },
  "org": null
 },
 "nbformat": 4,
 "nbformat_minor": 4
}
