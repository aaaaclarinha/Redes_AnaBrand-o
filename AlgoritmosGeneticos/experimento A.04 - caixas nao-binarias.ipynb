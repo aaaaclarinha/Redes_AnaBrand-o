{
 "cells": [
  {
   "cell_type": "markdown",
   "metadata": {},
   "source": [
    "Problema das caixas não-binárias\n",
    "================================\n",
    "\n"
   ]
  },
  {
   "cell_type": "markdown",
   "metadata": {},
   "source": [
    "## Objetivo\n",
    "\n"
   ]
  },
  {
   "cell_type": "markdown",
   "metadata": {},
   "source": [
    "Encontrar uma solução para o problema das caixas não-binárias usando um algoritmo genético. Considere 4 caixas. Considere que cada caixa pode ter um valor inteiro dentro do conjunto [0, 100].\n",
    "\n"
   ]
  },
  {
   "cell_type": "markdown",
   "metadata": {},
   "source": [
    "## Descrição do problema\n",
    "\n"
   ]
  },
  {
   "cell_type": "markdown",
   "metadata": {},
   "source": [
    "O problema das caixas não-binárias é simples: nós temos um certo número de caixas e cada uma pode conter um número inteiro. O objetivo é encontrar uma combinação de caixas onde a soma dos valores contidos dentro delas é máximo.\n",
    "\n"
   ]
  },
  {
   "cell_type": "markdown",
   "metadata": {},
   "source": [
    "## Importações\n",
    "\n"
   ]
  },
  {
   "cell_type": "code",
   "execution_count": 1,
   "metadata": {},
   "outputs": [],
   "source": [
    "from funcoes import populacao_cnb\n",
    "from funcoes import funcao_obj_pop_cnb as fun_obj_pop\n",
    "from funcoes import selecao_roleta_max as funcao_selecao\n",
    "from funcoes import cruzamento_ponto_simples as funcao_cruzamento\n",
    "from funcoes import mutacao_cnb\n",
    "import random"
   ]
  },
  {
   "cell_type": "markdown",
   "metadata": {},
   "source": [
    "## Códigos e discussão\n",
    "\n"
   ]
  },
  {
   "cell_type": "code",
   "execution_count": 5,
   "metadata": {},
   "outputs": [],
   "source": [
    "# constantes\n",
    "\n",
    "# relacionadas à busca\n",
    "TAMANHO_POP = 10 # número de individuos na população\n",
    "NUM_GERACOES = 10\n",
    "CHANCE_CRUZAMENTO = 0.5\n",
    "CHANCE_MUTACAO = 0.05\n",
    "\n",
    "# em contexto de cnb\n",
    "\n",
    "# relacionadas ao problema\n",
    "VALOR_MAX_CAIXA = 100\n",
    "NUM_GENES = 4 # número de \"caixas\" em cada individuos"
   ]
  },
  {
   "cell_type": "code",
   "execution_count": 6,
   "metadata": {},
   "outputs": [],
   "source": [
    "# Funções parciais \n",
    "\n",
    "def cria_pop_inicial(tamanho, n_genes):\n",
    "    return populacao_cnb(tamanho, n_genes, VALOR_MAX_CAIXA)\n",
    "\n",
    "def funcao_mutacao(individuo):\n",
    "    return mutacao_cnb(individuo, VALOR_MAX_CAIXA)"
   ]
  },
  {
   "cell_type": "code",
   "execution_count": 7,
   "metadata": {},
   "outputs": [
    {
     "name": "stdout",
     "output_type": "stream",
     "text": [
      "População inicial:\n",
      "[[62, 67, 69, 31], [95, 26, 40, 26], [63, 19, 86, 5], [13, 40, 12, 37], [62, 64, 36, 37], [21, 2, 69, 21], [84, 13, 92, 7], [89, 87, 74, 12], [31, 35, 34, 38], [8, 34, 84, 26]]\n",
      "\n",
      "Mutações:\n",
      "[62, 64, 92, 7]\n",
      "[62, 64, 18, 7]\n",
      "\n",
      "\n",
      "Mutações:\n",
      "[84, 64, 92, 7]\n",
      "[63, 64, 92, 7]\n",
      "\n",
      "\n",
      "Mutações:\n",
      "[63, 64, 18, 7]\n",
      "[63, 64, 18, 4]\n",
      "\n",
      "\n",
      "Mutações:\n",
      "[62, 13, 36, 21]\n",
      "[62, 67, 36, 21]\n",
      "\n",
      "\n",
      "Mutações:\n",
      "[62, 64, 92, 7]\n",
      "[62, 64, 19, 7]\n",
      "\n",
      "\n",
      "População final:\n",
      "[[62, 64, 19, 7], [62, 64, 92, 7], [62, 64, 92, 7], [62, 64, 92, 7], [62, 67, 36, 21], [62, 64, 19, 7], [62, 64, 19, 7], [84, 64, 92, 7], [63, 64, 18, 4], [62, 64, 92, 7]]\n"
     ]
    }
   ],
   "source": [
    "populacao = cria_pop_inicial(TAMANHO_POP, NUM_GENES)\n",
    "\n",
    "print(\"População inicial:\")\n",
    "print(populacao)\n",
    "\n",
    "for n in range(NUM_GERACOES):\n",
    "    fitness = fun_obj_pop(populacao)\n",
    "    populacao = funcao_selecao(populacao, fitness)\n",
    "    \n",
    "    pais = populacao[0::2]\n",
    "    maes = populacao[1::2]\n",
    "    contador = 0\n",
    "    \n",
    "    for pai, mae in zip(pais, maes):\n",
    "        \n",
    "        if random.random() <= CHANCE_CRUZAMENTO:\n",
    "            filho1, filho2 = funcao_cruzamento(pai, mae)\n",
    "            populacao[contador] = filho1 \n",
    "            populacao[contador + 1] = filho2 \n",
    "        \n",
    "        contador = contador + 2\n",
    "        \n",
    "    for n in range(len(populacao)):\n",
    "        if random.random() <= CHANCE_MUTACAO:\n",
    "            individuo = populacao[n]\n",
    "            print()\n",
    "            print(\"Mutações:\")\n",
    "            print(individuo)\n",
    "            populacao[n] = funcao_mutacao(individuo)\n",
    "            print(populacao[n])\n",
    "            print()\n",
    "    \n",
    "print()\n",
    "print(\"População final:\")\n",
    "print(populacao)"
   ]
  },
  {
   "cell_type": "markdown",
   "metadata": {},
   "source": [
    "## Conclusão\n",
    "\n",
    "<p> O problema das caixas não-binárias torna-se menos trivial quando pensado computacionalmente. Neste problema, o número de possibilidades é consideravelmente maior, o que torna o objetivo mais complicado de ser alcançado. Contudo, o sucesso do algoritmo ainda é muito probabilistico, pois fatores como a seleção e mutação "
   ]
  },
  {
   "cell_type": "markdown",
   "metadata": {},
   "source": [
    "## Playground\n",
    "\n"
   ]
  },
  {
   "cell_type": "code",
   "execution_count": null,
   "metadata": {},
   "outputs": [],
   "source": []
  }
 ],
 "metadata": {
  "kernelspec": {
   "display_name": "ilumpy",
   "language": "python",
   "name": "ilumpy"
  },
  "language_info": {
   "codemirror_mode": {
    "name": "ipython",
    "version": 3
   },
   "file_extension": ".py",
   "mimetype": "text/x-python",
   "name": "python",
   "nbconvert_exporter": "python",
   "pygments_lexer": "ipython3",
   "version": "3.9.7"
  },
  "org": null
 },
 "nbformat": 4,
 "nbformat_minor": 4
}
