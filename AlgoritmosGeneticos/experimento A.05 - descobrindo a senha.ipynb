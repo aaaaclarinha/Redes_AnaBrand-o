{
 "cells": [
  {
   "cell_type": "markdown",
   "metadata": {},
   "source": [
    "Descobrindo a senha\n",
    "===================\n",
    "\n"
   ]
  },
  {
   "cell_type": "markdown",
   "metadata": {},
   "source": [
    "## Objetivo\n",
    "\n"
   ]
  },
  {
   "cell_type": "markdown",
   "metadata": {},
   "source": [
    "Usar um algoritmo genético para descobrir uma senha.\n",
    "\n"
   ]
  },
  {
   "cell_type": "markdown",
   "metadata": {},
   "source": [
    "## Descrição do problema\n",
    "\n"
   ]
  },
  {
   "cell_type": "markdown",
   "metadata": {},
   "source": [
    "Neste problema, a função objetivo deve saber a senha correta e quantificar de alguma maneira o quão perto ou longe os palpites estão da solução (veja que isso é algo que não temos no mundo real. Nenhum site irá te dizer se você está acertando ou errando seu palpite). O critério de parada deste problema é quando a senha for descoberta.\n",
    "\n"
   ]
  },
  {
   "cell_type": "markdown",
   "metadata": {},
   "source": [
    "## Importações\n",
    "\n"
   ]
  },
  {
   "cell_type": "code",
   "execution_count": 1,
   "metadata": {},
   "outputs": [],
   "source": [
    "from funcoes import populacao_inicial_senha\n",
    "from funcoes import funcao_objetivo_pop_senha\n",
    "from funcoes import selecao_torneio_min\n",
    "from funcoes import cruzamento_ponto_simples as funcao_cruzamento\n",
    "from funcoes import mutacao_senha\n",
    "import random"
   ]
  },
  {
   "cell_type": "markdown",
   "metadata": {},
   "source": [
    "## Códigos e discussão\n",
    "\n"
   ]
  },
  {
   "cell_type": "code",
   "execution_count": 2,
   "metadata": {},
   "outputs": [],
   "source": [
    "### CONSTANTES\n",
    "\n",
    "# relacionadas à busca\n",
    "TAMANHO_POP = 50\n",
    "#NUM_GERACOES = 2000\n",
    "CHANCE_CRUZAMENTO = 0.5\n",
    "CHANCE_MUTACAO = 0.05\n",
    "NUM_COMBATENTES_NO_TORNEIO = 3\n",
    "\n",
    "# relacionadas ao problema a ser resulvido\n",
    "SENHA = \"anagatinhanaosabeprogramar\"\n",
    "LETRAS_POSSIVEIS = \"abcdefghijklmnopqrstuvwxyz\"\n",
    "NUM_GENES = len(SENHA)"
   ]
  },
  {
   "cell_type": "code",
   "execution_count": 3,
   "metadata": {},
   "outputs": [],
   "source": [
    "# funções locais\n",
    "\n",
    "def cria_populacao_inicial(tamanho, tamanho_senha):\n",
    "    return populacao_inicial_senha(tamanho, tamanho_senha, LETRAS_POSSIVEIS)\n",
    "\n",
    "def funcao_objetivo_pop(populacao):\n",
    "    return funcao_objetivo_pop_senha(populacao, SENHA)\n",
    "\n",
    "def funcao_selecao(populacao, fitness):\n",
    "    return selecao_torneio_min(populacao, fitness, NUM_COMBATENTES_NO_TORNEIO)\n",
    "\n",
    "def funcao_mutacao(individuo):\n",
    "    return mutacao_senha(individuo, LETRAS_POSSIVEIS)"
   ]
  },
  {
   "cell_type": "code",
   "execution_count": 4,
   "metadata": {},
   "outputs": [
    {
     "name": "stdout",
     "output_type": "stream",
     "text": [
      "Progresso da melhor senha já vista:\n",
      "eodhurbkqugkvpkdkyozejkjjv - fitness: 174\n",
      "idplazlfeifavpkdkyozejkjjv - fitness: 161\n",
      "biplazlfeifavpkdkyozejkjjv - fitness: 149\n",
      "eodhurbkcejcvqdqiokoejkjjv - fitness: 131\n",
      "bodhurbkcejcvqdqiokoejkjjv - fitness: 128\n",
      "eodhklkfcejcvqdqiokoejkjjv - fitness: 127\n",
      "bodhurbkcejcvqdqiokoeukjjv - fitness: 123\n",
      "eodhklkfcejcqqdqiokoejkjjo - fitness: 121\n",
      "bodhurbkcejcvqddiokoejkjjo - fitness: 114\n",
      "eodhklkfcejcqqddiokoejkjjo - fitness: 108\n",
      "eodhklkfcejcqqddiokoejajjv - fitness: 99\n",
      "eodhklkfcejcqqddiokoejajjo - fitness: 98\n",
      "bodhurjkcejcqqddiokoeuajjo - fitness: 88\n",
      "eodhkrjkcejcqqddiokoeuajjo - fitness: 81\n",
      "bodhkrjkcejcqqddiokoeuajjo - fitness: 78\n",
      "eodhkrjkcejcqqddeokoeuajjo - fitness: 77\n",
      "bodhkrjkcejcqqddcokoeuajjo - fitness: 76\n",
      "bodhkrjkcejcqqddeokoeuajjo - fitness: 74\n",
      "bodhkrjkcejcqqdbeokoeuajjo - fitness: 72\n",
      "bodhkrikcejcqqdbeokoeuajjo - fitness: 71\n",
      "bodhkrimcejcqqdbeokoeuajjo - fitness: 69\n",
      "bodhkrikcejcqqdbeokoeuajao - fitness: 62\n",
      "bodhkrikcejcqqdbeoroeuajao - fitness: 55\n",
      "bodhkrikeejcqqdbeoroeuajao - fitness: 53\n",
      "bodhkrikedjcqqdbeoroeuajao - fitness: 52\n",
      "bodhkrikeejcqqabeoroeuajao - fitness: 50\n",
      "bodhkrikeencqqdbeoroeuajao - fitness: 49\n",
      "bodhkrikeejcqqabeoroeuamao - fitness: 47\n",
      "bodhkrikeencqqabeoroeuajao - fitness: 46\n",
      "bodhkrikeencqqabeoroeqajao - fitness: 44\n",
      "bodhkrikeancqqabeoroeuajao - fitness: 42\n",
      "bodhkrikeancqqabeoroetajao - fitness: 41\n",
      "boahkrikeancmqabeoroetajao - fitness: 38\n",
      "boahkrioeancmqabeoroetajao - fitness: 36\n",
      "boahkrioeancmqabeoroetaoao - fitness: 35\n",
      "boahfrioeancmqabeoroetajao - fitness: 31\n",
      "boahfrioeancmqabeoroetaoao - fitness: 30\n",
      "boahfriohancmqabeoroetaoao - fitness: 27\n",
      "aoahfrioeanamqabeoroetaoaq - fitness: 25\n",
      "aoahfrioeanamqabeoroetaoar - fitness: 24\n",
      "anahfrioeanamqabeoroeqaoaq - fitness: 23\n",
      "anahfriofanamqabeoroeqaoaq - fitness: 22\n",
      "anahfriofanamqabeoroeraoaq - fitness: 21\n",
      "anahfriofanamsabeoroeraoaq - fitness: 19\n",
      "anahfriofanamsabeorofraoaq - fitness: 18\n",
      "anahftiofanamsabeorofraoaq - fitness: 16\n",
      "anahbtiofanamsabeorofraoaq - fitness: 12\n",
      "anahbtiohanamsabeorofraoaq - fitness: 10\n",
      "anahbtiohanamsabeorofralaq - fitness: 9\n",
      "anahbtiohanansabeorofralaq - fitness: 8\n",
      "anahbtiohanansabeprofralaq - fitness: 7\n",
      "anagbtiohanansabeprofralaq - fitness: 6\n",
      "anagbtiohanaosabeprofralaq - fitness: 5\n",
      "anagbtinhanaosabeprofralaq - fitness: 4\n",
      "anagbtinhanaosabeprogralaq - fitness: 3\n",
      "anagbtinhanaosabeprogramaq - fitness: 2\n",
      "anagatinhanaosabeprogramaq - fitness: 1\n",
      "anagatinhanaosabeprogramar - fitness: 0\n",
      "\n",
      "Melhor palpite da senha encontrado:\n",
      "anagatinhanaosabeprogramar\n"
     ]
    }
   ],
   "source": [
    "populacao = cria_populacao_inicial(TAMANHO_POP, NUM_GENES)\n",
    "\n",
    "melhor_fitness_ja_visto = float(\"inf\")  # é assim que escrevemos infinito em python\n",
    "\n",
    "print(\"Progresso da melhor senha já vista:\")\n",
    "\n",
    "while melhor_fitness_ja_visto != 0:   \n",
    "    \n",
    "    # Seleção\n",
    "    fitness = funcao_objetivo_pop(populacao)\n",
    "    populacao = funcao_selecao(populacao, fitness)\n",
    "    \n",
    "    # Cruzamento\n",
    "    pais = populacao[0::2]\n",
    "    maes = populacao[1::2]\n",
    "    \n",
    "    contador = 0\n",
    "    \n",
    "    for pai, mae in zip(pais, maes):\n",
    "        if random.random() <= CHANCE_CRUZAMENTO:\n",
    "            filho1, filho2 = funcao_cruzamento(pai, mae)\n",
    "            populacao[contador] = filho1\n",
    "            populacao[contador + 1] = filho2\n",
    "        \n",
    "        contador = contador + 2   \n",
    "        \n",
    "    # Mutação\n",
    "    for n in range(len(populacao)):\n",
    "        if random.random() <= CHANCE_MUTACAO:\n",
    "            individuo = populacao[n]\n",
    "            populacao[n] = funcao_mutacao(individuo)            \n",
    "            \n",
    "    # melhor individuo já visto até agora\n",
    "    fitness = funcao_objetivo_pop(populacao)\n",
    "    menor_fitness = min(fitness)\n",
    "    if menor_fitness < melhor_fitness_ja_visto:        \n",
    "        posicao = fitness.index(menor_fitness)\n",
    "        melhor_individuo_ja_visto = populacao[posicao]\n",
    "        melhor_fitness_ja_visto = menor_fitness\n",
    "        print(\"\".join(melhor_individuo_ja_visto), \"- fitness:\", melhor_fitness_ja_visto)\n",
    "\n",
    "print()\n",
    "print(\"Melhor palpite da senha encontrado:\")\n",
    "print(\"\".join(melhor_individuo_ja_visto))"
   ]
  },
  {
   "cell_type": "markdown",
   "metadata": {},
   "source": [
    "## Conclusão\n",
    "\n",
    "<p align= \"justify\"> Vê-se primeiramente que este é um problema de minimização muito semelhante a Caixa não-binária. Eles diferem, é claro, no formato da lista, contudo, está diferença é solucionada ao atribuir um valor numérico a cada letra da senha. Neste problema, utiliza-se a seleção por torneio, que consiste em comparar o fitness de dois individuos afim de identificar o melhor, desta forma, o melhor candidato poderá seguir sendo iterado na procura do resultado final. Esta técnica destaca-se pois não possui a aleatoriedade presente no método de seleção por roleta, tornando o problema mais direto. </p>\n"
   ]
  },
  {
   "cell_type": "markdown",
   "metadata": {},
   "source": [
    "## Playground\n",
    "\n"
   ]
  },
  {
   "cell_type": "code",
   "execution_count": null,
   "metadata": {},
   "outputs": [],
   "source": []
  }
 ],
 "metadata": {
  "kernelspec": {
   "display_name": "ilumpy",
   "language": "python",
   "name": "ilumpy"
  },
  "language_info": {
   "codemirror_mode": {
    "name": "ipython",
    "version": 3
   },
   "file_extension": ".py",
   "mimetype": "text/x-python",
   "name": "python",
   "nbconvert_exporter": "python",
   "pygments_lexer": "ipython3",
   "version": "3.9.7"
  },
  "org": null
 },
 "nbformat": 4,
 "nbformat_minor": 4
}
