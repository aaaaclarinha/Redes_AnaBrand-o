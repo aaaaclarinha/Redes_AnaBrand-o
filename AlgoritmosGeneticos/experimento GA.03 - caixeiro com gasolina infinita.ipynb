{
 "cells": [
  {
   "cell_type": "markdown",
   "metadata": {
    "jp-MarkdownHeadingCollapsed": true,
    "tags": []
   },
   "source": [
    "## O caixeiro viajante que gosta de viajar  \n",
    "<p><i>O caixeiro com gasolina infinita (e sem conciência ambiental)</i></p>\n"
   ]
  },
  {
   "cell_type": "markdown",
   "metadata": {},
   "source": [
    "## Introdução\n",
    "\n"
   ]
  },
  {
   "cell_type": "markdown",
   "metadata": {},
   "source": [
    "<p style=\"text-align: justify\">Este problema é a história de um caixeiro que viaja entre cidade para vender sua mercadoria. Nesta variedade, o caixeiro possui gasolina infinita e gosta muito de estrada, portando, o objetivo utilizar um algoritmo genético para encontrar o trajeto entre de um conjunto de cidades, onde a distância percorrida seja a maior possível.</p>\n"
   ]
  },
  {
   "cell_type": "markdown",
   "metadata": {},
   "source": [
    "## Objetivo\n",
    "\n"
   ]
  },
  {
   "cell_type": "markdown",
   "metadata": {},
   "source": [
    "<p style=\"text-align: justify\">Encontre o caminho de *maior* distância no problema do caixeiro viajante e mostre ele de forma gráfica.</p>\n",
    "\n",
    "<p style=\"text-align: justify\"><b>Considerações do experimento:</b> Considere um número $n\\geq 7$ de coordenadas $(x,y)$ de cidades e que o caixeiro tenha combustível infinito. Você pode gerar as coordenadas de forma aleatória ou simplesmente usar as coordenadas que desejar. O caixeiro só anda em linha reta e apenas entre duas cidades. O caixeiro começa e termina seu trajeto na mesma cidade e, fora a cidade inicial, ele não visita nenhuma outra cidade mais de uma vez.</p>"
   ]
  },
  {
   "cell_type": "markdown",
   "metadata": {},
   "source": [
    "\n",
    "    "
   ]
  },
  {
   "cell_type": "markdown",
   "metadata": {},
   "source": [
    "## Importações\n",
    "\n"
   ]
  },
  {
   "cell_type": "markdown",
   "metadata": {},
   "source": [
    "Todos os comandos de `import` devem estar dentro desta seção.\n",
    "\n"
   ]
  },
  {
   "cell_type": "code",
   "execution_count": 1,
   "metadata": {},
   "outputs": [],
   "source": [
    "from funcoes import cria_cidades\n",
    "from funcoes import populacao_inicial_cv\n",
    "from funcoes import funcao_objetivo_cv\n",
    "from funcoes import funcao_objetivo_pop_cv\n",
    "from funcoes import selecao_torneio_max # nova funcao\n",
    "from funcoes import cruzamento_ordenado\n",
    "from funcoes import mutacao_de_troca\n",
    "from itertools import permutations\n",
    "import random"
   ]
  },
  {
   "cell_type": "markdown",
   "metadata": {},
   "source": [
    "<p style=\"text-align: justify\">A primeira mão, importa-se as funções e modulos necessários para resolução do problema. Note que todas as funções utilizadas são para o Problema do Caixeiro Viajante que procura o menor trajeto possível, exeto a que realiza o torneio. Isso porque os dois problemas são de fato muito semelhantes, salvo o fato de que a situação anterior é um problema de minimização e a presente situação é um problema de maximização, assim, como o torneio é onde se define quais indivíduos seguirão para a próxima etapa do algoritmo, é necessário manipulá-lo para que selecione o maior fitness, ao invés do menor.</p>"
   ]
  },
  {
   "cell_type": "markdown",
   "metadata": {},
   "source": [
    "## Códigos e discussão\n",
    "\n"
   ]
  },
  {
   "cell_type": "code",
   "execution_count": 2,
   "metadata": {},
   "outputs": [],
   "source": [
    "### Constantes \n",
    "\n",
    "# relacionadas a busca\n",
    "TAMANHO_POP = 10\n",
    "NUM_GERACOES = 50\n",
    "CHANCE_CRUZAMENTO = 0.5\n",
    "CHANCE_MUTACAO = 0.05\n",
    "NUM_COMBATENTES_NO_TORNEIO = 3\n",
    "\n",
    "# relacionadas ao problema a ser resolvido\n",
    "NUMERO_DE_CIDADES = 9\n",
    "CIDADES = cria_cidades(NUMERO_DE_CIDADES)"
   ]
  },
  {
   "cell_type": "code",
   "execution_count": 3,
   "metadata": {},
   "outputs": [],
   "source": [
    "# criar população \n",
    "\n",
    "populacao = populacao_inicial_cv(TAMANHO_POP, CIDADES)\n",
    "\n",
    "# fitness da população \n",
    "\n",
    "melhor_fitness = float(\"-inf\") # Nesta linha está definido o parametro inicial para o fitness\n",
    "                               # Como este é um problema de maximização, começamos com um valor\n",
    "                               # extremamente baixo, assim qualquer valor acima disto será considerado\n",
    "    \n",
    "for i in range(NUM_GERACOES):\n",
    "    \n",
    "    # Seleção \n",
    "    \n",
    "    fitness = funcao_objetivo_pop_cv(populacao, CIDADES) # avalia cada individou da população \n",
    "    populacao= selecao_torneio_max(populacao, fitness, NUM_COMBATENTES_NO_TORNEIO) # insere em um novo grupo os individuos com melhores avalidações\n",
    "    \n",
    "    # Cruzamento \n",
    "    \n",
    "    # divide a população em dois grupos\n",
    "    pais = populacao[0::2]\n",
    "    maes = populacao[1::2]\n",
    "    \n",
    "    contador = 0 \n",
    "    \n",
    "    for pai, mae in zip(pais, maes):\n",
    "        if random.random() <= CHANCE_CRUZAMENTO:\n",
    "            filho1, filho2 = cruzamento_ordenado(pai, mae)\n",
    "            populacao[contador] = filho1\n",
    "            populacao[contador + 1] = filho2 \n",
    "            \n",
    "        contador = contador + 2\n",
    "        \n",
    "    # Mutação\n",
    "    \n",
    "    for n in range(len(populacao)):\n",
    "        if random.random() <= CHANCE_MUTACAO:\n",
    "            individuo = populacao[n]\n",
    "            populacao[n] = mutacao_de_troca(individuo)\n",
    "            \n",
    "    # melhor individuo já visto até agora\n",
    "    # lembrando que este é um problema de maximização\n",
    "    \n",
    "    fitness = funcao_objetivo_pop_cv(populacao, CIDADES)\n",
    "    maior_fitness = max(fitness) \n",
    "    \n",
    "    if maior_fitness > melhor_fitness:\n",
    "        posicao = fitness.index(maior_fitness)\n",
    "        melhor_individuo = populacao[posicao]\n",
    "        melhor_fitness = maior_fitness"
   ]
  },
  {
   "cell_type": "markdown",
   "metadata": {},
   "source": [
    "<p style=\"text-align: justify\"> Como primeiro passo, cria-se uma população para ser trabalhada, os parâmetros como tamanho da população, número de cidades por indivíduo, número de gerações e as demais contantes do problema foram escolhidas de forma arbritária (exeto o número de cidades que está sobre a condição de ser &ge; 7). Define-se então a variável <i>melhor_fitness</i>, ela servirá de régua para selecionar os melhores resultados, por isso, ela é definida incialmente como um valor infinitamente baixo, assim, como queremos maximizar o resultado, qualquer individuo com fitness acima dela será considerado na seleção dos melhores resultados </p>\n",
    "\n",
    "<p style=\"text-align: justify\">Dito isto, inicia-se o primeiro laço <i><b> for </b></i>, nele, itera-se o número de gerações, assim, o algoritmo realizará um cruzamento para cada geração requisitada. Em seguida, divide-se a população em sub-grupos de <i> pais</i> e <i> maes </i>, que serão cruzados no próximo laço <i><b> for </b></i>. A variável <i> contador </i> existe para organizar os novos indivíduos, frutos do cruzamento (<i>filhos</i>), de forma ordenada, na nova população. Por fim, temos a etapa de mutação, onde um gene pode aleatóriamente ser mutado, podendo ou não gerar um melhor indivídou </p>\n",
    "\n",
    "<p style=\"text-align: justify\">Tendo sido realizado o cruzamento, avalia-se o fitness de cada indivíduo, o quanto ele foi bom em relação ao objetivo esperado - neste caso, a maior distância percorrida. Para isso, basta selecionar o maior fitnesse de cada população e armazerna-lo em uma variável (<i>melhor_individuo</i>, <i>melhor_fitness</i>); como estamos em um laço de repetição, se nas gerações seguintes surgirem melhores indivíduos, eles ocuparão este espaço.</p>"
   ]
  },
  {
   "cell_type": "code",
   "execution_count": 4,
   "metadata": {},
   "outputs": [],
   "source": [
    "# Busca testando todas as permutações\n",
    "\n",
    "melhor_fitness_ever = float(\"-inf\")\n",
    "\n",
    "# testando todas as permutações possíveis\n",
    "for caminho in permutations(list(CIDADES.keys())):\n",
    "    distancia = funcao_objetivo_cv(caminho, CIDADES)\n",
    "    if distancia > melhor_fitness_ever:\n",
    "        melhor_fitness_ever = distancia\n",
    "        melhor_resposta_ever = caminho       "
   ]
  },
  {
   "cell_type": "markdown",
   "metadata": {},
   "source": [
    "<p style=\"text-align: justify\">Para obter um parâmetro de comparação, reazou-se uma busca entre todas as possibilidades de caminhos para o caixeiro, para assim avaliar o desempenho do algoritmo genético.</p>"
   ]
  },
  {
   "cell_type": "code",
   "execution_count": 6,
   "metadata": {},
   "outputs": [
    {
     "name": "stdout",
     "output_type": "stream",
     "text": [
      "Melhor individuo obtido por algoritmos genéticos:\n",
      "['Cidade 5', 'Cidade 1', 'Cidade 8', 'Cidade 3', 'Cidade 7', 'Cidade 6', 'Cidade 0', 'Cidade 4', 'Cidade 2'] com distância: 6.121559720241457\n",
      "\n",
      "Melhor individuo obtido por busca exaustiva:\n",
      "('Cidade 3', 'Cidade 8', 'Cidade 6', 'Cidade 0', 'Cidade 4', 'Cidade 2', 'Cidade 5', 'Cidade 1', 'Cidade 7') com distância: 6.238056376068961\n"
     ]
    }
   ],
   "source": [
    "print(\"Melhor individuo obtido por algoritmos genéticos:\")\n",
    "print(melhor_individuo, \"com distância:\", melhor_fitness)\n",
    "\n",
    "print()\n",
    "print(\"Melhor individuo obtido por busca exaustiva:\")\n",
    "print(melhor_resposta_ever, \"com distância:\", melhor_fitness_ever)"
   ]
  },
  {
   "cell_type": "markdown",
   "metadata": {},
   "source": [
    "## Conclusão\n",
    "\n"
   ]
  },
  {
   "cell_type": "markdown",
   "metadata": {},
   "source": [
    "<p style=\"text-align: justify\"> Neste experimento temos, portanto, um problema de maximização resolvido por algoritmo genético. Vemos que a construção do problema não difere em muitos pontos de outros problemas relativamente mais simples, como das caixas binárias e não-binárias e descobrindo a senha. Dentre eles, a única característica essencial que muda é o formato do indivíduo. Ademais, é preciso consierar outras etapas do algoritmo e avaliar quais são as melhores estratégias, como por exemplo, neste experimento, o método de seleção usado foi o de torneio, enquanto em outros, foi usado o método da roleta. Pode-se, contudo, observar que, apesar de ser rápido e estratégico, nem sempre o algoritmo vai encotrar de fato a melhor resposta, como ocorreu na busca exaustiva.  </p>"
   ]
  },
  {
   "cell_type": "markdown",
   "metadata": {},
   "source": [
    "## Playground\n",
    "\n"
   ]
  },
  {
   "cell_type": "markdown",
   "metadata": {},
   "source": [
    "Todo código de teste que não faz parte do seu experimento deve vir aqui. Este código não será considerado na avaliação.\n",
    "\n"
   ]
  }
 ],
 "metadata": {
  "kernelspec": {
   "display_name": "ilumpy",
   "language": "python",
   "name": "ilumpy"
  },
  "language_info": {
   "codemirror_mode": {
    "name": "ipython",
    "version": 3
   },
   "file_extension": ".py",
   "mimetype": "text/x-python",
   "name": "python",
   "nbconvert_exporter": "python",
   "pygments_lexer": "ipython3",
   "version": "3.9.7"
  },
  "org": null
 },
 "nbformat": 4,
 "nbformat_minor": 4
}
