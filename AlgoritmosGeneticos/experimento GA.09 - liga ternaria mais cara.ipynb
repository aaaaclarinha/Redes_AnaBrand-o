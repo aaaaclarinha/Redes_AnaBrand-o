{
 "cells": [
  {
   "cell_type": "markdown",
   "metadata": {
    "jp-MarkdownHeadingCollapsed": true,
    "tags": []
   },
   "source": [
    "## A liga ternária mais cara do mundo\n"
   ]
  },
  {
   "cell_type": "markdown",
   "metadata": {},
   "source": [
    "## Introdução\n",
    "\n"
   ]
  },
  {
   "cell_type": "markdown",
   "metadata": {},
   "source": [
    "Delete este texto e escreva uma breve introdução sobre seu experimento.\n",
    "\n"
   ]
  },
  {
   "cell_type": "markdown",
   "metadata": {},
   "source": [
    "## Objetivo\n",
    "\n"
   ]
  },
  {
   "cell_type": "markdown",
   "metadata": {},
   "source": [
    "Encontre uma liga de três elementos que tenha o maior custo possível. A liga ternária deve ser da forma $x$A.$y$B.$z$C sendo que $x+y+z = 100\\,\\mathrm{g}$, $x>5\\,\\mathrm{g}$, $y>5\\,\\mathrm{g}$, $z>5\\,\\mathrm{g}$ e &ldquo;A&rdquo;, &ldquo;B&rdquo; e &ldquo;C&rdquo; são elementos químicos. Utilize o preço [1] dado abaixo. Considere que qualquer composto com 3 elementos químicos é chamado de liga.\n"
   ]
  },
  {
   "cell_type": "markdown",
   "metadata": {},
   "source": [
    "<h3> Desenvolvimento do algortimo </h3>\n",
    "<p aling=\"justify\"> Para resolver este problema, é necessário pensar primeiramente no formato dos individuos que serão gerados e mutados. Seguindo as dicas dadas, o método desenvolvido trabalhará com listas referentes as caracteristicas dos genes/elementos, afim de simplificar a iteração. </p>\n",
    " \n",
    "<h4> Parametros iniciais </h4>\n",
    "<ul>\n",
    "    <li>A liga deve pesar 100g </li>\n",
    "    <li>Os pesos e valores são determinados por uma lista pré-existente (espaço de busca)</li>\n",
    "    <li>A parcela de cada elemento na liga deve ser maior que 5%</li>\n",
    "</ul>\n",
    "\n",
    "<h4> Passos</h4>\n",
    "<ul>\n",
    "    <li> Selecionar genes, que serão elementos da lista ✔ (funcoes.py) </li>\n",
    "    <li> Gerar individuo válido </li>\n",
    "    <li> Gerar uma população </li>\n",
    "    <li> Avaliar seu respectivo preço (fitness_ind e fitness_pop) </li>\n",
    "    "
   ]
  },
  {
   "cell_type": "markdown",
   "metadata": {},
   "source": [
    "## Importações\n",
    "\n"
   ]
  },
  {
   "cell_type": "markdown",
   "metadata": {},
   "source": [
    "Todos os comandos de `import` devem estar dentro desta seção.\n",
    "\n"
   ]
  },
  {
   "cell_type": "code",
   "execution_count": 1,
   "metadata": {},
   "outputs": [
    {
     "data": {
      "text/plain": [
       "'\\nfrom funcoes import gene_liga as elem_liga # seleciona um gene aleatório \\nfrom funcoes import individuo_liga as ind_liga # gerar o individuo \\nfrom funcoes import populacao_inicial_liga as pop_liga # gera uma população incial \\nfrom funcoes import funcao_obj_liga as funcao_fitness # gera um valor de fitness para o individou \\nfrom funcoes import funcao_objetivo_pop_senha # para calcular o preço (fitness)\\nimport itertools\\n'"
      ]
     },
     "execution_count": 1,
     "metadata": {},
     "output_type": "execute_result"
    }
   ],
   "source": [
    "\"\"\"\n",
    "from funcoes import gene_liga as elem_liga # seleciona um gene aleatório \n",
    "from funcoes import individuo_liga as ind_liga # gerar o individuo \n",
    "from funcoes import populacao_inicial_liga as pop_liga # gera uma população incial \n",
    "from funcoes import funcao_obj_liga as funcao_fitness # gera um valor de fitness para o individou \n",
    "from funcoes import funcao_objetivo_pop_senha # para calcular o preço (fitness)\n",
    "import itertools\n",
    "\"\"\""
   ]
  },
  {
   "cell_type": "markdown",
   "metadata": {},
   "source": [
    "## Códigos e discussão\n",
    "\n"
   ]
  },
  {
   "cell_type": "markdown",
   "metadata": {},
   "source": [
    "-   Use células de código para o código.\n",
    "\n",
    "-   Use células de texto para a discussão.\n",
    "\n",
    "-   A discussão não deve ser feita em comentários dentro das células de código. Toda discussão deve acontecer após o resultado sendo discutido foi apresentado. Exemplo: não discuta um gráfico antes de apresentá-lo.\n",
    "\n"
   ]
  },
  {
   "cell_type": "code",
   "execution_count": 2,
   "metadata": {
    "jupyter": {
     "source_hidden": true
    },
    "tags": []
   },
   "outputs": [],
   "source": [
    "# preço em dólares por kilograma\n",
    "preco_kg = {\n",
    "    \"H\": 1.39,\n",
    "    \"He\": 24,\n",
    "    \"Li\": 85.6,\n",
    "    \"Be\": 857,\n",
    "    \"B\": 3.68,\n",
    "    \"C\": 0.122,\n",
    "    \"N\": 0.14,\n",
    "    \"O\": 0.154,\n",
    "    \"F\": 2.16,\n",
    "    \"Ne\": 240,\n",
    "    \"Na\": 3.43,\n",
    "    \"Mg\": 2.32,\n",
    "    \"Al\": 1.79,\n",
    "    \"Si\": 1.7,\n",
    "    \"P\": 2.69,\n",
    "    \"S\": 0.0926,\n",
    "    \"Cl\": 0.082,\n",
    "    \"Ar\": 0.931,\n",
    "    \"K\": 13.6,\n",
    "    \"Ca\": 2.35,\n",
    "    \"Sc\": 3460,\n",
    "    \"Ti\": 11.7,\n",
    "    \"V\": 385,\n",
    "    \"Cr\": 9.4,\n",
    "    \"Mn\": 1.82,\n",
    "    \"Fe\": 0.424,\n",
    "    \"Co\": 32.8,\n",
    "    \"Ni\": 13.9,\n",
    "    \"Cu\": 6,\n",
    "    \"Zn\": 2.55,\n",
    "    \"Ga\": 148,\n",
    "    \"Ge\": 1010,\n",
    "    \"As\": 1.31,\n",
    "    \"Se\": 21.4,\n",
    "    \"Br\": 4.39,\n",
    "    \"Kr\": 290,\n",
    "    \"Rb\": 15500,\n",
    "    \"Sr\": 6.68,\n",
    "    \"Y\": 31,\n",
    "    \"Nb\": 85.6,\n",
    "    \"Mo\": 40.1,\n",
    "    \"Tc\": 100000,\n",
    "    \"Ru\": 10600,\n",
    "    \"Rh\": 147000,\n",
    "    \"Pd\": 49500,\n",
    "    \"Ag\": 521,\n",
    "    \"Cd\": 2.73,\n",
    "    \"In\": 167,\n",
    "    \"Sn\": 18.7,\n",
    "    \"Sb\": 5.79,\n",
    "    \"Te\": 63.5,\n",
    "    \"I\": 35,\n",
    "    \"Xe\": 1800,\n",
    "    \"Cs\": 61800,\n",
    "    \"Ba\": 0.275,\n",
    "    \"La\": 4.92,\n",
    "    \"Ce\": 4.71,\n",
    "    \"Pr\": 103,\n",
    "    \"Nd\": 57.5,\n",
    "    \"Pm\": 460000,\n",
    "    \"Sm\": 13.9,\n",
    "    \"Eu\": 31.4,\n",
    "    \"Gd\": 28.6,\n",
    "    \"Tb\": 658,\n",
    "    \"Dy\": 307,\n",
    "    \"Ho\": 57.1,\n",
    "    \"Er\": 26.4,\n",
    "    \"Tm\": 3000,\n",
    "    \"Yb\": 17.1,\n",
    "    \"Lu\": 643,\n",
    "    \"Hf\": 900,\n",
    "    \"Ta\": 312,\n",
    "    \"W\": 35.3,\n",
    "    \"Re\": 4150,\n",
    "    \"Os\": 12000,\n",
    "    \"Ir\": 56200,\n",
    "    \"Pt\": 27800,\n",
    "    \"Hg\": 30.2,\n",
    "    \"Tl\": 4200,\n",
    "    \"Pb\": 2,\n",
    "    \"Bi\": 6.36,\n",
    "    \"Po\": 49200000000000,\n",
    "    \"Ac\": 29000000000000,\n",
    "    \"Th\": 287,\n",
    "    \"Pa\": 280000,\n",
    "    \"U\": 101,\n",
    "    \"Np\": 660000,\n",
    "    \"Pu\": 6490000,\n",
    "    \"Am\": 750000,\n",
    "    \"Cm\": 160000000000,\n",
    "    \"Bk\": 185000000000,\n",
    "    \"Cf\": 185000000000,\n",
    "}\n",
    "\n",
    "# converter a lista para gramas\n",
    "\n",
    "preco_g = {}\n",
    "\n",
    "for i in preco_kg:\n",
    "    a = preco_kg[i]*0.001\n",
    "    preco_g[i] = a\n",
    "    \n",
    "#print(preco_g)"
   ]
  },
  {
   "cell_type": "code",
   "execution_count": 3,
   "metadata": {},
   "outputs": [
    {
     "data": {
      "text/plain": [
       "'\\n# Constantes\\n\\n# Referentes ao problema \\nNUM_GENES = 3 \\nPESO_LIGA = 100\\nPESO_MIN_ELEM = 5\\n\\n# Referentes a busca\\nTAMANHO_POP = 100\\n'"
      ]
     },
     "execution_count": 3,
     "metadata": {},
     "output_type": "execute_result"
    }
   ],
   "source": [
    "\"\"\"\n",
    "# Constantes\n",
    "\n",
    "# Referentes ao problema \n",
    "NUM_GENES = 3 \n",
    "PESO_LIGA = 100\n",
    "PESO_MIN_ELEM = 5\n",
    "\n",
    "# Referentes a busca\n",
    "TAMANHO_POP = 100\n",
    "\"\"\""
   ]
  },
  {
   "cell_type": "markdown",
   "metadata": {},
   "source": [
    "## Conclusão\n",
    "\n"
   ]
  },
  {
   "cell_type": "markdown",
   "metadata": {},
   "source": [
    "Delete este texto e escreva sua conclusão.\n",
    "\n"
   ]
  },
  {
   "cell_type": "markdown",
   "metadata": {},
   "source": [
    "## Referências consultadas\n",
    "\n"
   ]
  },
  {
   "cell_type": "markdown",
   "metadata": {},
   "source": [
    "1.  Delete este texto e inclua suas referências ordenadas numericamente. Se for referenciar no notebook, use o número entre colchetes (exemplo: para citar essa referência aqui escreva &ldquo;[1]&rdquo; sem as áspas).\n",
    "\n",
    "2.  Cada item deve ser numerado. Siga o padrão apresentado.\n",
    "\n",
    "3.  Caso não tenha nenhuma referência consultada, delete esta seção e o texto contido nela!\n",
    "\n"
   ]
  },
  {
   "cell_type": "markdown",
   "metadata": {},
   "source": [
    "## Playground\n",
    "\n"
   ]
  },
  {
   "cell_type": "markdown",
   "metadata": {},
   "source": [
    "Todo código de teste que não faz parte do seu experimento deve vir aqui. Este código não será considerado na avaliação.\n",
    "\n"
   ]
  },
  {
   "cell_type": "code",
   "execution_count": 19,
   "metadata": {
    "tags": []
   },
   "outputs": [
    {
     "ename": "TypeError",
     "evalue": "object of type 'int' has no len()",
     "output_type": "error",
     "traceback": [
      "\u001b[1;31m---------------------------------------------------------------------------\u001b[0m",
      "\u001b[1;31mTypeError\u001b[0m                                 Traceback (most recent call last)",
      "\u001b[1;32mC:\\Users\\ANA220~1\\AppData\\Local\\Temp/ipykernel_34864/2610905431.py\u001b[0m in \u001b[0;36m<module>\u001b[1;34m\u001b[0m\n\u001b[0;32m     38\u001b[0m     \u001b[1;32mreturn\u001b[0m \u001b[0mgene\u001b[0m\u001b[1;33m\u001b[0m\u001b[1;33m\u001b[0m\u001b[0m\n\u001b[0;32m     39\u001b[0m \u001b[1;33m\u001b[0m\u001b[0m\n\u001b[1;32m---> 40\u001b[1;33m \u001b[0mprint\u001b[0m\u001b[1;33m(\u001b[0m\u001b[0mgene_liga\u001b[0m\u001b[1;33m(\u001b[0m\u001b[0mlista_teste\u001b[0m\u001b[1;33m)\u001b[0m\u001b[1;33m)\u001b[0m\u001b[1;33m\u001b[0m\u001b[1;33m\u001b[0m\u001b[0m\n\u001b[0m",
      "\u001b[1;32mC:\\Users\\ANA220~1\\AppData\\Local\\Temp/ipykernel_34864/2610905431.py\u001b[0m in \u001b[0;36mgene_liga\u001b[1;34m(lista_elementos)\u001b[0m\n\u001b[0;32m     32\u001b[0m \u001b[1;33m\u001b[0m\u001b[0m\n\u001b[0;32m     33\u001b[0m     \u001b[1;31m#massa = random.choice(massa_elementos)\u001b[0m\u001b[1;33m\u001b[0m\u001b[1;33m\u001b[0m\u001b[0m\n\u001b[1;32m---> 34\u001b[1;33m     \u001b[0mgene\u001b[0m \u001b[1;33m=\u001b[0m \u001b[0mitertools\u001b[0m\u001b[1;33m.\u001b[0m\u001b[0mproduct\u001b[0m\u001b[1;33m(\u001b[0m\u001b[0mnomes_elementos\u001b[0m\u001b[1;33m,\u001b[0m \u001b[0mrandom\u001b[0m\u001b[1;33m.\u001b[0m\u001b[0mchoices\u001b[0m\u001b[1;33m(\u001b[0m\u001b[0mmassa\u001b[0m\u001b[1;33m)\u001b[0m\u001b[1;33m)\u001b[0m\u001b[1;33m\u001b[0m\u001b[1;33m\u001b[0m\u001b[0m\n\u001b[0m\u001b[0;32m     35\u001b[0m \u001b[1;33m\u001b[0m\u001b[0m\n\u001b[0;32m     36\u001b[0m \u001b[1;33m\u001b[0m\u001b[0m\n",
      "\u001b[1;32mC:\\Program Files\\Python39\\lib\\random.py\u001b[0m in \u001b[0;36mchoices\u001b[1;34m(self, population, weights, cum_weights, k)\u001b[0m\n\u001b[0;32m    479\u001b[0m         \"\"\"\n\u001b[0;32m    480\u001b[0m         \u001b[0mrandom\u001b[0m \u001b[1;33m=\u001b[0m \u001b[0mself\u001b[0m\u001b[1;33m.\u001b[0m\u001b[0mrandom\u001b[0m\u001b[1;33m\u001b[0m\u001b[1;33m\u001b[0m\u001b[0m\n\u001b[1;32m--> 481\u001b[1;33m         \u001b[0mn\u001b[0m \u001b[1;33m=\u001b[0m \u001b[0mlen\u001b[0m\u001b[1;33m(\u001b[0m\u001b[0mpopulation\u001b[0m\u001b[1;33m)\u001b[0m\u001b[1;33m\u001b[0m\u001b[1;33m\u001b[0m\u001b[0m\n\u001b[0m\u001b[0;32m    482\u001b[0m         \u001b[1;32mif\u001b[0m \u001b[0mcum_weights\u001b[0m \u001b[1;32mis\u001b[0m \u001b[1;32mNone\u001b[0m\u001b[1;33m:\u001b[0m\u001b[1;33m\u001b[0m\u001b[1;33m\u001b[0m\u001b[0m\n\u001b[0;32m    483\u001b[0m             \u001b[1;32mif\u001b[0m \u001b[0mweights\u001b[0m \u001b[1;32mis\u001b[0m \u001b[1;32mNone\u001b[0m\u001b[1;33m:\u001b[0m\u001b[1;33m\u001b[0m\u001b[1;33m\u001b[0m\u001b[0m\n",
      "\u001b[1;31mTypeError\u001b[0m: object of type 'int' has no len()"
     ]
    }
   ],
   "source": [
    "import random\n",
    "import itertools\n",
    "lista_teste = {\"ana\": 7,\n",
    "               \"thom\": 17,\n",
    "               \"monyque\": 10\n",
    "              }\n",
    "peso = {} \n",
    "\n",
    "def gene_liga(lista_elementos):\n",
    "    \n",
    "    \"\"\"Sorteia um elememto da lista.\n",
    "    \n",
    "        Args:\n",
    "          lista_elementos: lista de elementos\n",
    "        \n",
    "        Return:\n",
    "          Retorna um elemento da lista e um valor númerico representando seu peso na liga \n",
    "    \n",
    "    \"\"\"\n",
    "    lista_gene = []\n",
    "    \n",
    "    massa_elementos = []\n",
    "    \n",
    "    nomes_elementos = []\n",
    "        \n",
    "    for massa in range(5, 91):\n",
    "        massa_elementos.append(massa)\n",
    "        \n",
    "    for elemento in lista_elementos.keys():\n",
    "        nomes_elementos.append(elemento)\n",
    "        \n",
    "    \n",
    "    for m in nomes_elementos:\n",
    "        gene = itertools.product(nomes_elementos, random.choices(massa))\n",
    "    \n",
    "    \n",
    "    \n",
    "    return gene\n",
    "\n",
    "print(gene_liga(lista_teste))"
   ]
  },
  {
   "cell_type": "code",
   "execution_count": null,
   "metadata": {},
   "outputs": [],
   "source": [
    "def individuo_liga(lista_elementos, num_elementos, peso_liga):\n",
    "    ''' gera um individuo valido para a liga\n",
    "        \n",
    "        OBS. O individuo deve ter um peso igual a 100g no final e\n",
    "        cada elemento precisa estar presente em pelo menos 5% da liga \n",
    "        \n",
    "            Args: \n",
    "                lista_elementos: lista com os elementos\n",
    "                num_elementos: número de elementos presentes na liga\n",
    "                peso_liga: peso máximo que a liga pode assumir \n",
    "                \n",
    "            Return:\n",
    "                individuo valido \n",
    "                valor da liga \n",
    "    '''\n",
    "\n",
    "\n",
    "    individuo = []\n",
    "    \n",
    "    peso = 0\n",
    "                         \n",
    "    for i in range(num_elementos):\n",
    "\n",
    "        elemento = (gene_liga(lista_elementos))\n",
    "        individuo.append(elemento)\n",
    "        \n",
    "    return individuo"
   ]
  },
  {
   "cell_type": "code",
   "execution_count": null,
   "metadata": {},
   "outputs": [
    {
     "data": {
      "text/plain": [
       "[[('ana', 80, 17)], [('ana', 45, 10)], [('monyque', 17, 10)]]"
      ]
     },
     "execution_count": 8,
     "metadata": {},
     "output_type": "execute_result"
    }
   ],
   "source": [
    "NUM_ELEMENTOS = 3\n",
    "PESO_LIGA = 100\n",
    "individuo_liga(lista_teste, NUM_ELEMENTOS, PESO_LIGA)"
   ]
  },
  {
   "cell_type": "code",
   "execution_count": null,
   "metadata": {},
   "outputs": [],
   "source": []
  },
  {
   "cell_type": "code",
   "execution_count": null,
   "metadata": {},
   "outputs": [],
   "source": []
  }
 ],
 "metadata": {
  "kernelspec": {
   "display_name": "ilumpy",
   "language": "python",
   "name": "ilumpy"
  },
  "language_info": {
   "codemirror_mode": {
    "name": "ipython",
    "version": 3
   },
   "file_extension": ".py",
   "mimetype": "text/x-python",
   "name": "python",
   "nbconvert_exporter": "python",
   "pygments_lexer": "ipython3",
   "version": "3.9.7"
  },
  "org": null
 },
 "nbformat": 4,
 "nbformat_minor": 4
}
