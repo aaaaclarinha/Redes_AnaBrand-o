{
 "cells": [
  {
   "cell_type": "markdown",
   "metadata": {},
   "source": [
    "# Construindo um Grafo Automaticamente \n",
    "\n",
    "## Introdução\n",
    "\n",
    "<p style=\"text-align: justify\">Neste notebook nós vamos dar o primeiro passo para construir nossa rede neural artificial. Neste primeiro passo, nós vamos criar uma classe que gera automaticamente o nosso grafo computacional. O grafo computacional é o grafo que representa todas as operações matemáticas que ocorreram ao se computar um certo valor. O grafo computacional é um passo necessário pois será baseado nele que iremos computar os gradientes locais necessários para realizar o backpropagation.</p>"
   ]
  },
  {
   "cell_type": "markdown",
   "metadata": {},
   "source": [
    "## Importações "
   ]
  },
  {
   "cell_type": "code",
   "execution_count": 1,
   "metadata": {},
   "outputs": [],
   "source": [
    "from funcoes import plota_grafo"
   ]
  },
  {
   "cell_type": "code",
   "execution_count": 2,
   "metadata": {},
   "outputs": [],
   "source": [
    "try:\n",
    "    import graphviz\n",
    "except ModuleNotFoundError:\n",
    "    import sys\n",
    "    !{sys.executable} -m pip install graphviz"
   ]
  },
  {
   "cell_type": "markdown",
   "metadata": {},
   "source": [
    "## Código e Discussões \n",
    "\n",
    "#### Primeiros passos\n",
    "<p>A base de tudo será uma classe chamada <b>Valor</b>. Vamos começar pelo básico!</p>"
   ]
  },
  {
   "cell_type": "code",
   "execution_count": 3,
   "metadata": {},
   "outputs": [],
   "source": [
    "class Valor:\n",
    "    def __init__(self, data):\n",
    "        self.data = data\n",
    "\n",
    "    def __repr__(self):\n",
    "        return f\"Valor(data={self.data})\""
   ]
  },
  {
   "cell_type": "markdown",
   "metadata": {},
   "source": [
    "<h4> Os dunders <b>__add__</b> e <b>__mul__</b> <h4>\n",
    "Observe que não conseguimos adicionar nem multiplicar objetos criados com a classe <b>Valor</b>."
   ]
  },
  {
   "cell_type": "code",
   "execution_count": 4,
   "metadata": {},
   "outputs": [
    {
     "ename": "TypeError",
     "evalue": "unsupported operand type(s) for +: 'Valor' and 'Valor'",
     "output_type": "error",
     "traceback": [
      "\u001b[1;31m---------------------------------------------------------------------------\u001b[0m",
      "\u001b[1;31mTypeError\u001b[0m                                 Traceback (most recent call last)",
      "\u001b[1;32mC:\\Users\\ANA220~1\\AppData\\Local\\Temp/ipykernel_4848/2532285497.py\u001b[0m in \u001b[0;36m<module>\u001b[1;34m\u001b[0m\n\u001b[0;32m      2\u001b[0m \u001b[0mb\u001b[0m \u001b[1;33m=\u001b[0m \u001b[0mValor\u001b[0m\u001b[1;33m(\u001b[0m\u001b[1;36m5\u001b[0m\u001b[1;33m)\u001b[0m\u001b[1;33m\u001b[0m\u001b[1;33m\u001b[0m\u001b[0m\n\u001b[0;32m      3\u001b[0m \u001b[1;33m\u001b[0m\u001b[0m\n\u001b[1;32m----> 4\u001b[1;33m \u001b[0mprint\u001b[0m\u001b[1;33m(\u001b[0m\u001b[0ma\u001b[0m \u001b[1;33m+\u001b[0m \u001b[0mb\u001b[0m\u001b[1;33m)\u001b[0m\u001b[1;33m\u001b[0m\u001b[1;33m\u001b[0m\u001b[0m\n\u001b[0m",
      "\u001b[1;31mTypeError\u001b[0m: unsupported operand type(s) for +: 'Valor' and 'Valor'"
     ]
    }
   ],
   "source": [
    "a = Valor(10)\n",
    "b = Valor(5)\n",
    "\n",
    "print(a + b)"
   ]
  },
  {
   "cell_type": "code",
   "execution_count": 5,
   "metadata": {},
   "outputs": [
    {
     "ename": "TypeError",
     "evalue": "unsupported operand type(s) for *: 'Valor' and 'Valor'",
     "output_type": "error",
     "traceback": [
      "\u001b[1;31m---------------------------------------------------------------------------\u001b[0m",
      "\u001b[1;31mTypeError\u001b[0m                                 Traceback (most recent call last)",
      "\u001b[1;32mC:\\Users\\ANA220~1\\AppData\\Local\\Temp/ipykernel_4848/2640154986.py\u001b[0m in \u001b[0;36m<module>\u001b[1;34m\u001b[0m\n\u001b[1;32m----> 1\u001b[1;33m \u001b[0mprint\u001b[0m\u001b[1;33m(\u001b[0m\u001b[0ma\u001b[0m \u001b[1;33m*\u001b[0m \u001b[0mb\u001b[0m\u001b[1;33m)\u001b[0m\u001b[1;33m\u001b[0m\u001b[1;33m\u001b[0m\u001b[0m\n\u001b[0m",
      "\u001b[1;31mTypeError\u001b[0m: unsupported operand type(s) for *: 'Valor' and 'Valor'"
     ]
    }
   ],
   "source": [
    "print(a * b)"
   ]
  },
  {
   "cell_type": "markdown",
   "metadata": {},
   "source": [
    "<p style=\"text-align: justify\">Ué… porque não conseguimos? Não conseguimos pois o Python (ainda) não é vidente. Ele lá vai saber como adicionar ou multiplicar algo que você criou? Pra você parece óbvio que valores podem ser adicionados ou multiplicados, mas para o Python ele nem sabe o que significa a palavra <b>Valor</b>...</p>\n",
    "\n",
    "<p style=\"text-align: justify\">Como sempre, temos que contar para o programa o que queremos que aconteça quando usarmos os operadores + e *. Quem faz isso são os dunders __add__ e __mul__.</p>"
   ]
  },
  {
   "cell_type": "code",
   "execution_count": 6,
   "metadata": {},
   "outputs": [],
   "source": [
    "class Valor:\n",
    "    def __init__(self, data):\n",
    "        self.data = data\n",
    "\n",
    "    def __repr__(self):\n",
    "        return f\"Valor(data={self.data})\"\n",
    "\n",
    "    def __add__(self, outro_valor):\n",
    "        saida = Valor(self.data + outro_valor.data)\n",
    "        return saida\n",
    "\n",
    "    def __mul__(self, outro_valor):\n",
    "        saida = Valor(self.data * outro_valor.data)\n",
    "        return saida"
   ]
  },
  {
   "cell_type": "code",
   "execution_count": 7,
   "metadata": {},
   "outputs": [
    {
     "name": "stdout",
     "output_type": "stream",
     "text": [
      "Valor(data=15)\n",
      "Valor(data=50)\n"
     ]
    }
   ],
   "source": [
    "a = Valor(10)\n",
    "b = Valor(5)\n",
    "\n",
    "print(a + b)\n",
    "print(a * b)"
   ]
  },
  {
   "cell_type": "markdown",
   "metadata": {},
   "source": [
    "#### Registrando os progenitores\n",
    "<p style=\"text-align: justify\">Nosso objetivo é construir um grafo computacional. Em um grafo computacional, um certo vértice pode ter um ou mais vértices progenitores (são seus pais/mães). Nós não podemos perder essa informação quando formos construir um grafo, então precisamos incluir essa informação na nossa classe.</p>"
   ]
  },
  {
   "cell_type": "code",
   "execution_count": 8,
   "metadata": {},
   "outputs": [],
   "source": [
    "class Valor:\n",
    "    def __init__(self, data, progenitor=()):\n",
    "        self.data = data\n",
    "        self.progenitor = progenitor\n",
    "\n",
    "    def __repr__(self):\n",
    "        return f\"Valor(data={self.data})\"\n",
    "\n",
    "    def __add__(self, outro_valor):\n",
    "        data = self.data + outro_valor.data\n",
    "        progenitor = (self, outro_valor)\n",
    "        saida = Valor(data, progenitor)\n",
    "        return saida\n",
    "\n",
    "    def __mul__(self, outro_valor):\n",
    "        data = self.data * outro_valor.data\n",
    "        progenitor = (self, outro_valor)\n",
    "        saida = Valor(data, progenitor)\n",
    "        return saida"
   ]
  },
  {
   "cell_type": "code",
   "execution_count": 9,
   "metadata": {},
   "outputs": [
    {
     "name": "stdout",
     "output_type": "stream",
     "text": [
      "10\n",
      "()\n",
      "Valor(data=15)\n",
      "Valor(data=10)\n",
      "(Valor(data=15), Valor(data=10))\n"
     ]
    }
   ],
   "source": [
    "a = Valor(10)\n",
    "b = Valor(5)\n",
    "\n",
    "print(a.data)\n",
    "print(a.progenitor)\n",
    "\n",
    "c = a + b\n",
    "d = c * a\n",
    "\n",
    "print(c)\n",
    "print(a)\n",
    "print(d.progenitor)"
   ]
  },
  {
   "cell_type": "markdown",
   "metadata": {},
   "source": [
    "#### Registrando o operador mãe\n",
    "Em um grafo computacional, um vértice pode ter um operador mãe. O operador mãe é o operador que foi usado para gerar o vértice."
   ]
  },
  {
   "cell_type": "code",
   "execution_count": 10,
   "metadata": {},
   "outputs": [],
   "source": [
    "class Valor:\n",
    "    def __init__(self, data, progenitor=(), operador_mae=\"\"):\n",
    "        self.data = data\n",
    "        self.progenitor = progenitor\n",
    "        self.operador_mae = operador_mae\n",
    "\n",
    "    def __repr__(self):\n",
    "        return f\"Valor(data={self.data})\"\n",
    "\n",
    "    def __add__(self, outro_valor):\n",
    "        data = self.data + outro_valor.data\n",
    "        progenitor = (self, outro_valor)\n",
    "        operador_mae = \"+\"\n",
    "        saida = Valor(data, progenitor, operador_mae)\n",
    "        return saida\n",
    "\n",
    "    def __mul__(self, outro_valor):\n",
    "        data = self.data * outro_valor.data\n",
    "        progenitor = (self, outro_valor)\n",
    "        operador_mae = \"*\"\n",
    "        saida = Valor(data, progenitor, operador_mae)\n",
    "        return saida"
   ]
  },
  {
   "cell_type": "code",
   "execution_count": 11,
   "metadata": {},
   "outputs": [
    {
     "name": "stdout",
     "output_type": "stream",
     "text": [
      "Valor(data=15)\n",
      "(Valor(data=10), Valor(data=5))\n",
      "+\n"
     ]
    }
   ],
   "source": [
    "a = Valor(10)\n",
    "b = Valor(5)\n",
    "\n",
    "c = a + b\n",
    "d = c * a\n",
    "\n",
    "print(c)\n",
    "print(c.progenitor)\n",
    "print(c.operador_mae)"
   ]
  },
  {
   "cell_type": "markdown",
   "metadata": {},
   "source": [
    "#### Plotando o primeiro grafo\n",
    "Vamos plotar nosso primeiro grafo!"
   ]
  },
  {
   "cell_type": "code",
   "execution_count": 12,
   "metadata": {},
   "outputs": [],
   "source": [
    "a = Valor(2)\n",
    "b = Valor(-3)\n",
    "c = Valor(10)\n",
    "\n",
    "d = a * b\n",
    "e = d + c"
   ]
  },
  {
   "cell_type": "code",
   "execution_count": 13,
   "metadata": {},
   "outputs": [
    {
     "data": {
      "image/svg+xml": [
       "<?xml version=\"1.0\" encoding=\"UTF-8\" standalone=\"no\"?>\n",
       "<!DOCTYPE svg PUBLIC \"-//W3C//DTD SVG 1.1//EN\"\n",
       " \"http://www.w3.org/Graphics/SVG/1.1/DTD/svg11.dtd\">\n",
       "<!-- Generated by graphviz version 6.0.2 (20221011.1828)\n",
       " -->\n",
       "<!-- Pages: 1 -->\n",
       "<svg width=\"515pt\" height=\"128pt\"\n",
       " viewBox=\"0.00 0.00 515.00 128.00\" xmlns=\"http://www.w3.org/2000/svg\" xmlns:xlink=\"http://www.w3.org/1999/xlink\">\n",
       "<g id=\"graph0\" class=\"graph\" transform=\"scale(1 1) rotate(0) translate(4 124)\">\n",
       "<polygon fill=\"white\" stroke=\"none\" points=\"-4,4 -4,-124 511,-124 511,4 -4,4\"/>\n",
       "<!-- 1884557107792 -->\n",
       "<g id=\"node1\" class=\"node\">\n",
       "<title>1884557107792</title>\n",
       "<polygon fill=\"none\" stroke=\"black\" points=\"2.5,-83.5 2.5,-119.5 83.5,-119.5 83.5,-83.5 2.5,-83.5\"/>\n",
       "<text text-anchor=\"middle\" x=\"43\" y=\"-97.8\" font-family=\"Times New Roman,serif\" font-size=\"14.00\">data 2.0000</text>\n",
       "</g>\n",
       "<!-- 1884557109616* -->\n",
       "<g id=\"node7\" class=\"node\">\n",
       "<title>1884557109616*</title>\n",
       "<ellipse fill=\"none\" stroke=\"black\" cx=\"149\" cy=\"-73.5\" rx=\"27\" ry=\"18\"/>\n",
       "<text text-anchor=\"middle\" x=\"149\" y=\"-69.8\" font-family=\"Times New Roman,serif\" font-size=\"14.00\">*</text>\n",
       "</g>\n",
       "<!-- 1884557107792&#45;&gt;1884557109616* -->\n",
       "<g id=\"edge3\" class=\"edge\">\n",
       "<title>1884557107792&#45;&gt;1884557109616*</title>\n",
       "<path fill=\"none\" stroke=\"black\" d=\"M83.61,-90.83C93.58,-88.15 104.2,-85.29 113.87,-82.69\"/>\n",
       "<polygon fill=\"black\" stroke=\"black\" points=\"114.8,-86.06 123.55,-80.08 112.98,-79.3 114.8,-86.06\"/>\n",
       "</g>\n",
       "<!-- 1884557108368 -->\n",
       "<g id=\"node2\" class=\"node\">\n",
       "<title>1884557108368</title>\n",
       "<polygon fill=\"none\" stroke=\"black\" points=\"0,-28.5 0,-64.5 86,-64.5 86,-28.5 0,-28.5\"/>\n",
       "<text text-anchor=\"middle\" x=\"43\" y=\"-42.8\" font-family=\"Times New Roman,serif\" font-size=\"14.00\">data &#45;3.0000</text>\n",
       "</g>\n",
       "<!-- 1884557108368&#45;&gt;1884557109616* -->\n",
       "<g id=\"edge5\" class=\"edge\">\n",
       "<title>1884557108368&#45;&gt;1884557109616*</title>\n",
       "<path fill=\"none\" stroke=\"black\" d=\"M86,-57.4C95.16,-59.78 104.75,-62.27 113.57,-64.56\"/>\n",
       "<polygon fill=\"black\" stroke=\"black\" points=\"112.94,-68.01 123.5,-67.14 114.7,-61.24 112.94,-68.01\"/>\n",
       "</g>\n",
       "<!-- 1884557109040 -->\n",
       "<g id=\"node3\" class=\"node\">\n",
       "<title>1884557109040</title>\n",
       "<polygon fill=\"none\" stroke=\"black\" points=\"212,-0.5 212,-36.5 300,-36.5 300,-0.5 212,-0.5\"/>\n",
       "<text text-anchor=\"middle\" x=\"256\" y=\"-14.8\" font-family=\"Times New Roman,serif\" font-size=\"14.00\">data 10.0000</text>\n",
       "</g>\n",
       "<!-- 1884557108032+ -->\n",
       "<g id=\"node5\" class=\"node\">\n",
       "<title>1884557108032+</title>\n",
       "<ellipse fill=\"none\" stroke=\"black\" cx=\"363\" cy=\"-45.5\" rx=\"27\" ry=\"18\"/>\n",
       "<text text-anchor=\"middle\" x=\"363\" y=\"-41.8\" font-family=\"Times New Roman,serif\" font-size=\"14.00\">+</text>\n",
       "</g>\n",
       "<!-- 1884557109040&#45;&gt;1884557108032+ -->\n",
       "<g id=\"edge4\" class=\"edge\">\n",
       "<title>1884557109040&#45;&gt;1884557108032+</title>\n",
       "<path fill=\"none\" stroke=\"black\" d=\"M300.01,-29.56C309.21,-31.93 318.81,-34.39 327.63,-36.66\"/>\n",
       "<polygon fill=\"black\" stroke=\"black\" points=\"327.01,-40.12 337.56,-39.22 328.75,-33.34 327.01,-40.12\"/>\n",
       "</g>\n",
       "<!-- 1884557108032 -->\n",
       "<g id=\"node4\" class=\"node\">\n",
       "<title>1884557108032</title>\n",
       "<polygon fill=\"none\" stroke=\"black\" points=\"426,-27.5 426,-63.5 507,-63.5 507,-27.5 426,-27.5\"/>\n",
       "<text text-anchor=\"middle\" x=\"466.5\" y=\"-41.8\" font-family=\"Times New Roman,serif\" font-size=\"14.00\">data 4.0000</text>\n",
       "</g>\n",
       "<!-- 1884557108032+&#45;&gt;1884557108032 -->\n",
       "<g id=\"edge1\" class=\"edge\">\n",
       "<title>1884557108032+&#45;&gt;1884557108032</title>\n",
       "<path fill=\"none\" stroke=\"black\" d=\"M390.14,-45.5C397.91,-45.5 406.69,-45.5 415.45,-45.5\"/>\n",
       "<polygon fill=\"black\" stroke=\"black\" points=\"415.65,-49 425.65,-45.5 415.65,-42 415.65,-49\"/>\n",
       "</g>\n",
       "<!-- 1884557109616 -->\n",
       "<g id=\"node6\" class=\"node\">\n",
       "<title>1884557109616</title>\n",
       "<polygon fill=\"none\" stroke=\"black\" points=\"213,-55.5 213,-91.5 299,-91.5 299,-55.5 213,-55.5\"/>\n",
       "<text text-anchor=\"middle\" x=\"256\" y=\"-69.8\" font-family=\"Times New Roman,serif\" font-size=\"14.00\">data &#45;6.0000</text>\n",
       "</g>\n",
       "<!-- 1884557109616&#45;&gt;1884557108032+ -->\n",
       "<g id=\"edge6\" class=\"edge\">\n",
       "<title>1884557109616&#45;&gt;1884557108032+</title>\n",
       "<path fill=\"none\" stroke=\"black\" d=\"M299.1,-62.27C308.64,-59.73 318.65,-57.06 327.81,-54.62\"/>\n",
       "<polygon fill=\"black\" stroke=\"black\" points=\"328.96,-57.93 337.72,-51.97 327.16,-51.17 328.96,-57.93\"/>\n",
       "</g>\n",
       "<!-- 1884557109616*&#45;&gt;1884557109616 -->\n",
       "<g id=\"edge2\" class=\"edge\">\n",
       "<title>1884557109616*&#45;&gt;1884557109616</title>\n",
       "<path fill=\"none\" stroke=\"black\" d=\"M176.23,-73.5C184.26,-73.5 193.4,-73.5 202.53,-73.5\"/>\n",
       "<polygon fill=\"black\" stroke=\"black\" points=\"202.79,-77 212.79,-73.5 202.79,-70 202.79,-77\"/>\n",
       "</g>\n",
       "</g>\n",
       "</svg>\n"
      ],
      "text/plain": [
       "<graphviz.graphs.Digraph at 0x1b6c8476910>"
      ]
     },
     "execution_count": 13,
     "metadata": {},
     "output_type": "execute_result"
    }
   ],
   "source": [
    "plota_grafo(e) # Rodar quando instalar programinha com erik"
   ]
  },
  {
   "cell_type": "markdown",
   "metadata": {},
   "source": [
    "#### Registrando o rótulo\n",
    "Nosso grafo seria mais legível se tivéssemos rótulos indicando o que é cada vértice. Vamos incluir essa informação na nossa classe."
   ]
  },
  {
   "cell_type": "code",
   "execution_count": 14,
   "metadata": {},
   "outputs": [],
   "source": [
    "class Valor:\n",
    "    def __init__(self, data, progenitor=(), operador_mae=\"\", rotulo=\"\"):\n",
    "        self.data = data\n",
    "        self.progenitor = progenitor\n",
    "        self.operador_mae = operador_mae\n",
    "        self.rotulo = rotulo\n",
    "\n",
    "    def __repr__(self):\n",
    "        return f\"Valor(data={self.data})\"\n",
    "\n",
    "    def __add__(self, outro_valor):\n",
    "        data = self.data + outro_valor.data\n",
    "        progenitor = (self, outro_valor)\n",
    "        operador_mae = \"+\"\n",
    "        saida = Valor(data, progenitor, operador_mae)\n",
    "        return saida\n",
    "\n",
    "    def __mul__(self, outro_valor):\n",
    "        data = self.data * outro_valor.data\n",
    "        progenitor = (self, outro_valor)\n",
    "        operador_mae = \"*\"\n",
    "        saida = Valor(data, progenitor, operador_mae)\n",
    "        return saida"
   ]
  },
  {
   "cell_type": "code",
   "execution_count": 15,
   "metadata": {},
   "outputs": [
    {
     "name": "stdout",
     "output_type": "stream",
     "text": [
      "digraph {\n",
      "\tgraph [rankdir=LR]\n",
      "\t1884557117520 [label=\"{ c | data 10.0000 }\" shape=record]\n",
      "\t1884557118048 [label=\"{ d | data -6.0000 }\" shape=record]\n",
      "\t\"1884557118048*\" [label=\"*\"]\n",
      "\t\"1884557118048*\" -> 1884557118048\n",
      "\t1884557115648 [label=\"{ a | data 2.0000 }\" shape=record]\n",
      "\t1884557116704 [label=\"{ b | data -3.0000 }\" shape=record]\n",
      "\t1884557118288 [label=\"{ e | data 4.0000 }\" shape=record]\n",
      "\t\"1884557118288+\" [label=\"+\"]\n",
      "\t\"1884557118288+\" -> 1884557118288\n",
      "\t1884557116704 -> \"1884557118048*\"\n",
      "\t1884557117520 -> \"1884557118288+\"\n",
      "\t1884557118048 -> \"1884557118288+\"\n",
      "\t1884557115648 -> \"1884557118048*\"\n",
      "}\n",
      "\n"
     ]
    }
   ],
   "source": [
    "a = Valor(2, rotulo=\"a\")\n",
    "b = Valor(-3, rotulo=\"b\")\n",
    "c = Valor(10, rotulo=\"c\")\n",
    "\n",
    "d = a * b\n",
    "e = d + c\n",
    "\n",
    "d.rotulo = \"d\"\n",
    "e.rotulo = \"e\"\n",
    "\n",
    "grafo = plota_grafo(e)\n",
    "print(grafo)"
   ]
  },
  {
   "cell_type": "markdown",
   "metadata": {},
   "source": [
    "#### Refazendo o grafo que fizemos na aula anterior\n",
    "Na aula anterior nós fizemos um grafo computacional para aprender como funciona o backpropagation. Vamos refazer ele aqui!"
   ]
  },
  {
   "cell_type": "code",
   "execution_count": 16,
   "metadata": {},
   "outputs": [],
   "source": [
    "x1 = Valor(60, rotulo=\"x1\")\n",
    "x2 = Valor(24, rotulo=\"x2\")\n",
    "w1 = Valor(10, rotulo=\"w1\")\n",
    "w2 = Valor(5, rotulo=\"w2\")\n",
    "w3 = Valor(2, rotulo=\"w3\")\n",
    "b = Valor(7, rotulo=\"b\")\n",
    "\n",
    "s1 = x1 * w1\n",
    "s1.rotulo = \"s1\"\n",
    "\n",
    "s2 = x2 * w2\n",
    "s2.rotulo = \"s2\"\n",
    "\n",
    "n = s1 + s2\n",
    "n.rotulo = \"n\"\n",
    "\n",
    "k = n + b\n",
    "k.rotulo = \"k\"\n",
    "\n",
    "y = k * w3\n",
    "y.rotulo = \"y\""
   ]
  },
  {
   "cell_type": "code",
   "execution_count": 17,
   "metadata": {},
   "outputs": [
    {
     "data": {
      "image/svg+xml": [
       "<?xml version=\"1.0\" encoding=\"UTF-8\" standalone=\"no\"?>\n",
       "<!DOCTYPE svg PUBLIC \"-//W3C//DTD SVG 1.1//EN\"\n",
       " \"http://www.w3.org/Graphics/SVG/1.1/DTD/svg11.dtd\">\n",
       "<!-- Generated by graphviz version 6.0.2 (20221011.1828)\n",
       " -->\n",
       "<!-- Pages: 1 -->\n",
       "<svg width=\"1117pt\" height=\"210pt\"\n",
       " viewBox=\"0.00 0.00 1117.00 210.00\" xmlns=\"http://www.w3.org/2000/svg\" xmlns:xlink=\"http://www.w3.org/1999/xlink\">\n",
       "<g id=\"graph0\" class=\"graph\" transform=\"scale(1 1) rotate(0) translate(4 206)\">\n",
       "<polygon fill=\"white\" stroke=\"none\" points=\"-4,4 -4,-206 1113,-206 1113,4 -4,4\"/>\n",
       "<!-- 1884557191680 -->\n",
       "<g id=\"node1\" class=\"node\">\n",
       "<title>1884557191680</title>\n",
       "<polygon fill=\"none\" stroke=\"black\" points=\"741,-109.5 741,-145.5 859,-145.5 859,-109.5 741,-109.5\"/>\n",
       "<text text-anchor=\"middle\" x=\"752.5\" y=\"-123.8\" font-family=\"Times New Roman,serif\" font-size=\"14.00\">k</text>\n",
       "<polyline fill=\"none\" stroke=\"black\" points=\"764,-109.5 764,-145.5\"/>\n",
       "<text text-anchor=\"middle\" x=\"811.5\" y=\"-123.8\" font-family=\"Times New Roman,serif\" font-size=\"14.00\">data 727.0000</text>\n",
       "</g>\n",
       "<!-- 1884557192496* -->\n",
       "<g id=\"node10\" class=\"node\">\n",
       "<title>1884557192496*</title>\n",
       "<ellipse fill=\"none\" stroke=\"black\" cx=\"922\" cy=\"-154.5\" rx=\"27\" ry=\"18\"/>\n",
       "<text text-anchor=\"middle\" x=\"922\" y=\"-150.8\" font-family=\"Times New Roman,serif\" font-size=\"14.00\">*</text>\n",
       "</g>\n",
       "<!-- 1884557191680&#45;&gt;1884557192496* -->\n",
       "<g id=\"edge8\" class=\"edge\">\n",
       "<title>1884557191680&#45;&gt;1884557192496*</title>\n",
       "<path fill=\"none\" stroke=\"black\" d=\"M859.24,-140.6C868.5,-142.69 877.81,-144.78 886.29,-146.69\"/>\n",
       "<polygon fill=\"black\" stroke=\"black\" points=\"885.65,-150.13 896.17,-148.91 887.19,-143.3 885.65,-150.13\"/>\n",
       "</g>\n",
       "<!-- 1884557191680+ -->\n",
       "<g id=\"node2\" class=\"node\">\n",
       "<title>1884557191680+</title>\n",
       "<ellipse fill=\"none\" stroke=\"black\" cx=\"678\" cy=\"-127.5\" rx=\"27\" ry=\"18\"/>\n",
       "<text text-anchor=\"middle\" x=\"678\" y=\"-123.8\" font-family=\"Times New Roman,serif\" font-size=\"14.00\">+</text>\n",
       "</g>\n",
       "<!-- 1884557191680+&#45;&gt;1884557191680 -->\n",
       "<g id=\"edge1\" class=\"edge\">\n",
       "<title>1884557191680+&#45;&gt;1884557191680</title>\n",
       "<path fill=\"none\" stroke=\"black\" d=\"M705.04,-127.5C712.83,-127.5 721.77,-127.5 730.96,-127.5\"/>\n",
       "<polygon fill=\"black\" stroke=\"black\" points=\"731,-131 741,-127.5 731,-124 731,-131\"/>\n",
       "</g>\n",
       "<!-- 1884557108224 -->\n",
       "<g id=\"node3\" class=\"node\">\n",
       "<title>1884557108224</title>\n",
       "<polygon fill=\"none\" stroke=\"black\" points=\"1.5,-165.5 1.5,-201.5 119.5,-201.5 119.5,-165.5 1.5,-165.5\"/>\n",
       "<text text-anchor=\"middle\" x=\"16.5\" y=\"-179.8\" font-family=\"Times New Roman,serif\" font-size=\"14.00\">x2</text>\n",
       "<polyline fill=\"none\" stroke=\"black\" points=\"31.5,-165.5 31.5,-201.5\"/>\n",
       "<text text-anchor=\"middle\" x=\"75.5\" y=\"-179.8\" font-family=\"Times New Roman,serif\" font-size=\"14.00\">data 24.0000</text>\n",
       "</g>\n",
       "<!-- 1884557192784* -->\n",
       "<g id=\"node6\" class=\"node\">\n",
       "<title>1884557192784*</title>\n",
       "<ellipse fill=\"none\" stroke=\"black\" cx=\"184\" cy=\"-128.5\" rx=\"27\" ry=\"18\"/>\n",
       "<text text-anchor=\"middle\" x=\"184\" y=\"-124.8\" font-family=\"Times New Roman,serif\" font-size=\"14.00\">*</text>\n",
       "</g>\n",
       "<!-- 1884557108224&#45;&gt;1884557192784* -->\n",
       "<g id=\"edge10\" class=\"edge\">\n",
       "<title>1884557108224&#45;&gt;1884557192784*</title>\n",
       "<path fill=\"none\" stroke=\"black\" d=\"M101.28,-165.49C117.79,-158.02 136.65,-149.48 152.09,-142.49\"/>\n",
       "<polygon fill=\"black\" stroke=\"black\" points=\"153.54,-145.68 161.21,-138.36 150.65,-139.3 153.54,-145.68\"/>\n",
       "</g>\n",
       "<!-- 1884557108272 -->\n",
       "<g id=\"node4\" class=\"node\">\n",
       "<title>1884557108272</title>\n",
       "<polygon fill=\"none\" stroke=\"black\" points=\"3.5,-110.5 3.5,-146.5 117.5,-146.5 117.5,-110.5 3.5,-110.5\"/>\n",
       "<text text-anchor=\"middle\" x=\"20\" y=\"-124.8\" font-family=\"Times New Roman,serif\" font-size=\"14.00\">w2</text>\n",
       "<polyline fill=\"none\" stroke=\"black\" points=\"36.5,-110.5 36.5,-146.5\"/>\n",
       "<text text-anchor=\"middle\" x=\"77\" y=\"-124.8\" font-family=\"Times New Roman,serif\" font-size=\"14.00\">data 5.0000</text>\n",
       "</g>\n",
       "<!-- 1884557108272&#45;&gt;1884557192784* -->\n",
       "<g id=\"edge14\" class=\"edge\">\n",
       "<title>1884557108272&#45;&gt;1884557192784*</title>\n",
       "<path fill=\"none\" stroke=\"black\" d=\"M117.63,-128.5C127.46,-128.5 137.45,-128.5 146.57,-128.5\"/>\n",
       "<polygon fill=\"black\" stroke=\"black\" points=\"146.81,-132 156.81,-128.5 146.81,-125 146.81,-132\"/>\n",
       "</g>\n",
       "<!-- 1884557192784 -->\n",
       "<g id=\"node5\" class=\"node\">\n",
       "<title>1884557192784</title>\n",
       "<polygon fill=\"none\" stroke=\"black\" points=\"247,-110.5 247,-146.5 371,-146.5 371,-110.5 247,-110.5\"/>\n",
       "<text text-anchor=\"middle\" x=\"261.5\" y=\"-124.8\" font-family=\"Times New Roman,serif\" font-size=\"14.00\">s2</text>\n",
       "<polyline fill=\"none\" stroke=\"black\" points=\"276,-110.5 276,-146.5\"/>\n",
       "<text text-anchor=\"middle\" x=\"323.5\" y=\"-124.8\" font-family=\"Times New Roman,serif\" font-size=\"14.00\">data 120.0000</text>\n",
       "</g>\n",
       "<!-- 1884557192544+ -->\n",
       "<g id=\"node12\" class=\"node\">\n",
       "<title>1884557192544+</title>\n",
       "<ellipse fill=\"none\" stroke=\"black\" cx=\"434\" cy=\"-100.5\" rx=\"27\" ry=\"18\"/>\n",
       "<text text-anchor=\"middle\" x=\"434\" y=\"-96.8\" font-family=\"Times New Roman,serif\" font-size=\"14.00\">+</text>\n",
       "</g>\n",
       "<!-- 1884557192784&#45;&gt;1884557192544+ -->\n",
       "<g id=\"edge13\" class=\"edge\">\n",
       "<title>1884557192784&#45;&gt;1884557192544+</title>\n",
       "<path fill=\"none\" stroke=\"black\" d=\"M371.14,-114.58C380.48,-112.45 389.84,-110.33 398.34,-108.39\"/>\n",
       "<polygon fill=\"black\" stroke=\"black\" points=\"399.26,-111.77 408.24,-106.14 397.71,-104.94 399.26,-111.77\"/>\n",
       "</g>\n",
       "<!-- 1884557192784*&#45;&gt;1884557192784 -->\n",
       "<g id=\"edge2\" class=\"edge\">\n",
       "<title>1884557192784*&#45;&gt;1884557192784</title>\n",
       "<path fill=\"none\" stroke=\"black\" d=\"M211.09,-128.5C218.72,-128.5 227.46,-128.5 236.49,-128.5\"/>\n",
       "<polygon fill=\"black\" stroke=\"black\" points=\"236.78,-132 246.78,-128.5 236.78,-125 236.78,-132\"/>\n",
       "</g>\n",
       "<!-- 1884557107888 -->\n",
       "<g id=\"node7\" class=\"node\">\n",
       "<title>1884557107888</title>\n",
       "<polygon fill=\"none\" stroke=\"black\" points=\"743,-164.5 743,-200.5 857,-200.5 857,-164.5 743,-164.5\"/>\n",
       "<text text-anchor=\"middle\" x=\"759.5\" y=\"-178.8\" font-family=\"Times New Roman,serif\" font-size=\"14.00\">w3</text>\n",
       "<polyline fill=\"none\" stroke=\"black\" points=\"776,-164.5 776,-200.5\"/>\n",
       "<text text-anchor=\"middle\" x=\"816.5\" y=\"-178.8\" font-family=\"Times New Roman,serif\" font-size=\"14.00\">data 2.0000</text>\n",
       "</g>\n",
       "<!-- 1884557107888&#45;&gt;1884557192496* -->\n",
       "<g id=\"edge7\" class=\"edge\">\n",
       "<title>1884557107888&#45;&gt;1884557192496*</title>\n",
       "<path fill=\"none\" stroke=\"black\" d=\"M857.14,-169.4C867.15,-167.06 877.31,-164.69 886.49,-162.55\"/>\n",
       "<polygon fill=\"black\" stroke=\"black\" points=\"887.44,-165.92 896.38,-160.24 885.85,-159.11 887.44,-165.92\"/>\n",
       "</g>\n",
       "<!-- 1884557109520 -->\n",
       "<g id=\"node8\" class=\"node\">\n",
       "<title>1884557109520</title>\n",
       "<polygon fill=\"none\" stroke=\"black\" points=\"503.5,-137.5 503.5,-173.5 608.5,-173.5 608.5,-137.5 503.5,-137.5\"/>\n",
       "<text text-anchor=\"middle\" x=\"515.5\" y=\"-151.8\" font-family=\"Times New Roman,serif\" font-size=\"14.00\">b</text>\n",
       "<polyline fill=\"none\" stroke=\"black\" points=\"527.5,-137.5 527.5,-173.5\"/>\n",
       "<text text-anchor=\"middle\" x=\"568\" y=\"-151.8\" font-family=\"Times New Roman,serif\" font-size=\"14.00\">data 7.0000</text>\n",
       "</g>\n",
       "<!-- 1884557109520&#45;&gt;1884557191680+ -->\n",
       "<g id=\"edge9\" class=\"edge\">\n",
       "<title>1884557109520&#45;&gt;1884557191680+</title>\n",
       "<path fill=\"none\" stroke=\"black\" d=\"M608.59,-143.46C619.93,-140.82 631.67,-138.08 642.17,-135.63\"/>\n",
       "<polygon fill=\"black\" stroke=\"black\" points=\"643.24,-138.97 652.18,-133.29 641.65,-132.15 643.24,-138.97\"/>\n",
       "</g>\n",
       "<!-- 1884557192496 -->\n",
       "<g id=\"node9\" class=\"node\">\n",
       "<title>1884557192496</title>\n",
       "<polygon fill=\"none\" stroke=\"black\" points=\"985,-136.5 985,-172.5 1109,-172.5 1109,-136.5 985,-136.5\"/>\n",
       "<text text-anchor=\"middle\" x=\"996.5\" y=\"-150.8\" font-family=\"Times New Roman,serif\" font-size=\"14.00\">y</text>\n",
       "<polyline fill=\"none\" stroke=\"black\" points=\"1008,-136.5 1008,-172.5\"/>\n",
       "<text text-anchor=\"middle\" x=\"1058.5\" y=\"-150.8\" font-family=\"Times New Roman,serif\" font-size=\"14.00\">data 1454.0000</text>\n",
       "</g>\n",
       "<!-- 1884557192496*&#45;&gt;1884557192496 -->\n",
       "<g id=\"edge3\" class=\"edge\">\n",
       "<title>1884557192496*&#45;&gt;1884557192496</title>\n",
       "<path fill=\"none\" stroke=\"black\" d=\"M949.09,-154.5C956.72,-154.5 965.46,-154.5 974.49,-154.5\"/>\n",
       "<polygon fill=\"black\" stroke=\"black\" points=\"974.78,-158 984.78,-154.5 974.78,-151 974.78,-158\"/>\n",
       "</g>\n",
       "<!-- 1884557192544 -->\n",
       "<g id=\"node11\" class=\"node\">\n",
       "<title>1884557192544</title>\n",
       "<polygon fill=\"none\" stroke=\"black\" points=\"497,-82.5 497,-118.5 615,-118.5 615,-82.5 497,-82.5\"/>\n",
       "<text text-anchor=\"middle\" x=\"508.5\" y=\"-96.8\" font-family=\"Times New Roman,serif\" font-size=\"14.00\">n</text>\n",
       "<polyline fill=\"none\" stroke=\"black\" points=\"520,-82.5 520,-118.5\"/>\n",
       "<text text-anchor=\"middle\" x=\"567.5\" y=\"-96.8\" font-family=\"Times New Roman,serif\" font-size=\"14.00\">data 720.0000</text>\n",
       "</g>\n",
       "<!-- 1884557192544&#45;&gt;1884557191680+ -->\n",
       "<g id=\"edge6\" class=\"edge\">\n",
       "<title>1884557192544&#45;&gt;1884557191680+</title>\n",
       "<path fill=\"none\" stroke=\"black\" d=\"M615.24,-113.6C624.5,-115.69 633.81,-117.78 642.29,-119.69\"/>\n",
       "<polygon fill=\"black\" stroke=\"black\" points=\"641.65,-123.13 652.17,-121.91 643.19,-116.3 641.65,-123.13\"/>\n",
       "</g>\n",
       "<!-- 1884557192544+&#45;&gt;1884557192544 -->\n",
       "<g id=\"edge4\" class=\"edge\">\n",
       "<title>1884557192544+&#45;&gt;1884557192544</title>\n",
       "<path fill=\"none\" stroke=\"black\" d=\"M461.04,-100.5C468.83,-100.5 477.77,-100.5 486.96,-100.5\"/>\n",
       "<polygon fill=\"black\" stroke=\"black\" points=\"487,-104 497,-100.5 487,-97 487,-104\"/>\n",
       "</g>\n",
       "<!-- 1884557191536 -->\n",
       "<g id=\"node13\" class=\"node\">\n",
       "<title>1884557191536</title>\n",
       "<polygon fill=\"none\" stroke=\"black\" points=\"247,-55.5 247,-91.5 371,-91.5 371,-55.5 247,-55.5\"/>\n",
       "<text text-anchor=\"middle\" x=\"261.5\" y=\"-69.8\" font-family=\"Times New Roman,serif\" font-size=\"14.00\">s1</text>\n",
       "<polyline fill=\"none\" stroke=\"black\" points=\"276,-55.5 276,-91.5\"/>\n",
       "<text text-anchor=\"middle\" x=\"323.5\" y=\"-69.8\" font-family=\"Times New Roman,serif\" font-size=\"14.00\">data 600.0000</text>\n",
       "</g>\n",
       "<!-- 1884557191536&#45;&gt;1884557192544+ -->\n",
       "<g id=\"edge11\" class=\"edge\">\n",
       "<title>1884557191536&#45;&gt;1884557192544+</title>\n",
       "<path fill=\"none\" stroke=\"black\" d=\"M371.14,-86.92C380.48,-88.97 389.84,-91.03 398.34,-92.89\"/>\n",
       "<polygon fill=\"black\" stroke=\"black\" points=\"397.72,-96.34 408.24,-95.06 399.22,-89.5 397.72,-96.34\"/>\n",
       "</g>\n",
       "<!-- 1884557191536* -->\n",
       "<g id=\"node14\" class=\"node\">\n",
       "<title>1884557191536*</title>\n",
       "<ellipse fill=\"none\" stroke=\"black\" cx=\"184\" cy=\"-73.5\" rx=\"27\" ry=\"18\"/>\n",
       "<text text-anchor=\"middle\" x=\"184\" y=\"-69.8\" font-family=\"Times New Roman,serif\" font-size=\"14.00\">*</text>\n",
       "</g>\n",
       "<!-- 1884557191536*&#45;&gt;1884557191536 -->\n",
       "<g id=\"edge5\" class=\"edge\">\n",
       "<title>1884557191536*&#45;&gt;1884557191536</title>\n",
       "<path fill=\"none\" stroke=\"black\" d=\"M211.09,-73.5C218.72,-73.5 227.46,-73.5 236.49,-73.5\"/>\n",
       "<polygon fill=\"black\" stroke=\"black\" points=\"236.78,-77 246.78,-73.5 236.78,-70 236.78,-77\"/>\n",
       "</g>\n",
       "<!-- 1884557109712 -->\n",
       "<g id=\"node15\" class=\"node\">\n",
       "<title>1884557109712</title>\n",
       "<polygon fill=\"none\" stroke=\"black\" points=\"1.5,-55.5 1.5,-91.5 119.5,-91.5 119.5,-55.5 1.5,-55.5\"/>\n",
       "<text text-anchor=\"middle\" x=\"16.5\" y=\"-69.8\" font-family=\"Times New Roman,serif\" font-size=\"14.00\">x1</text>\n",
       "<polyline fill=\"none\" stroke=\"black\" points=\"31.5,-55.5 31.5,-91.5\"/>\n",
       "<text text-anchor=\"middle\" x=\"75.5\" y=\"-69.8\" font-family=\"Times New Roman,serif\" font-size=\"14.00\">data 60.0000</text>\n",
       "</g>\n",
       "<!-- 1884557109712&#45;&gt;1884557191536* -->\n",
       "<g id=\"edge15\" class=\"edge\">\n",
       "<title>1884557109712&#45;&gt;1884557191536*</title>\n",
       "<path fill=\"none\" stroke=\"black\" d=\"M119.76,-73.5C128.92,-73.5 138.16,-73.5 146.64,-73.5\"/>\n",
       "<polygon fill=\"black\" stroke=\"black\" points=\"146.91,-77 156.91,-73.5 146.91,-70 146.91,-77\"/>\n",
       "</g>\n",
       "<!-- 1884557109232 -->\n",
       "<g id=\"node16\" class=\"node\">\n",
       "<title>1884557109232</title>\n",
       "<polygon fill=\"none\" stroke=\"black\" points=\"0,-0.5 0,-36.5 121,-36.5 121,-0.5 0,-0.5\"/>\n",
       "<text text-anchor=\"middle\" x=\"16.5\" y=\"-14.8\" font-family=\"Times New Roman,serif\" font-size=\"14.00\">w1</text>\n",
       "<polyline fill=\"none\" stroke=\"black\" points=\"33,-0.5 33,-36.5\"/>\n",
       "<text text-anchor=\"middle\" x=\"77\" y=\"-14.8\" font-family=\"Times New Roman,serif\" font-size=\"14.00\">data 10.0000</text>\n",
       "</g>\n",
       "<!-- 1884557109232&#45;&gt;1884557191536* -->\n",
       "<g id=\"edge12\" class=\"edge\">\n",
       "<title>1884557109232&#45;&gt;1884557191536*</title>\n",
       "<path fill=\"none\" stroke=\"black\" d=\"M101.28,-36.51C117.79,-43.98 136.65,-52.52 152.09,-59.51\"/>\n",
       "<polygon fill=\"black\" stroke=\"black\" points=\"150.65,-62.7 161.21,-63.64 153.54,-56.32 150.65,-62.7\"/>\n",
       "</g>\n",
       "</g>\n",
       "</svg>\n"
      ],
      "text/plain": [
       "<graphviz.graphs.Digraph at 0x1b6c85b6f40>"
      ]
     },
     "execution_count": 17,
     "metadata": {},
     "output_type": "execute_result"
    }
   ],
   "source": [
    "plota_grafo(y) # rodar quando instalar programinha com erik"
   ]
  },
  {
   "cell_type": "markdown",
   "metadata": {},
   "source": [
    "## Conclusão\n",
    "\n",
    "<p style=\"text-align: justify\"> Dando inicio a construção da classe Valor, vemos os atributos que começam a relacionar este conteúdo ao funcionamento de uma rede neural. Nesta etapa, é essencial entender que o que esta sendo construido é o comportamento de uma rede em relação aos dados recebidos, a forma como ela vai opera-los, vemos um pouco também o que ela pode nos oferecer sobre essas operações, atributos como o rótulo, os operadores e os progenitores são importante para reconhecer os processos que estão ocorrendo dentro da sua classe. </p>\n",
    "\n",
    "<p style=\"text-align: justify\"> Vale comentar que os atributos a classa Valor agora possui, foram dados a ela a critério do autor, ou seja, uma classe deve ser habilitada de forma a realizar as tarefas que o desenvolverdor programa, desta forma, uma classe pode ser muito simple - feita para realizar operações matemáticas básicas - ou muito mais complexa, a depender da necessidade. </p>"
   ]
  },
  {
   "cell_type": "markdown",
   "metadata": {},
   "source": [
    "## Playground\n",
    "\n"
   ]
  }
 ],
 "metadata": {
  "kernelspec": {
   "display_name": "ilumpy",
   "language": "python",
   "name": "ilumpy"
  },
  "language_info": {
   "codemirror_mode": {
    "name": "ipython",
    "version": 3
   },
   "file_extension": ".py",
   "mimetype": "text/x-python",
   "name": "python",
   "nbconvert_exporter": "python",
   "pygments_lexer": "ipython3",
   "version": "3.9.7"
  },
  "org": null
 },
 "nbformat": 4,
 "nbformat_minor": 4
}
